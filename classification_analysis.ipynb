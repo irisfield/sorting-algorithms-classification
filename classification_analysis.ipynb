{
 "cells": [
  {
   "cell_type": "markdown",
   "id": "29cc324e",
   "metadata": {
    "tags": []
   },
   "source": [
    "### About the Data\n",
    "The data consists of the following columns:\n",
    "- `SortType` - The algorithm used to sort the data (bubble sort, selection sort, insertion sort).\n",
    "- `ArrayType` - The order the integers in the array prior to sorting.\n",
    "    - `Random` - The integers in the array were in random order.\n",
    "    - `Increasing` - The integers in the array were in ascending order.\n",
    "    - `IncreasingAndRandom` - 90% of the integers were in ascending order while 10% were in random order.\n",
    "    - `Decreasing` - The integers in the array were in descending order.\n",
    "    - `Equal` - The integers in the array were all the same.\n",
    "- `ArraySize` - The size of the array.\n",
    "    - `10000` - The array contained 10,000 integers.\n",
    "    - `25000` - The array contained 25,000 integers.\n",
    "    - `50000` - The array contained 50,000 integers.\n",
    "    - `100000` - The array contained 100,000 integers.\n",
    "- `Test`# - The time it took in milliseconds to sort the array.\n",
    "- `AverageTime` - The average of all the test times in milliseconds."
   ]
  },
  {
   "cell_type": "code",
   "execution_count": 1,
   "id": "1909b3b6",
   "metadata": {},
   "outputs": [],
   "source": [
    "import pandas as pd\n",
    "import seaborn as sns\n",
    "import matplotlib as mpl\n",
    "import matplotlib.pyplot as plt\n",
    "from sklearn.tree import plot_tree\n",
    "from sklearn.metrics import confusion_matrix\n",
    "from sklearn.preprocessing import MinMaxScaler\n",
    "from sklearn.tree import DecisionTreeClassifier\n",
    "from sklearn.neighbors import KNeighborsClassifier\n",
    "from sklearn.ensemble import RandomForestClassifier\n",
    "from sklearn.model_selection import train_test_split\n",
    "%matplotlib inline"
   ]
  },
  {
   "cell_type": "markdown",
   "id": "9e717804",
   "metadata": {},
   "source": [
    "Increase the display size of all graphs by `factor`."
   ]
  },
  {
   "cell_type": "code",
   "execution_count": 2,
   "id": "7cbbb386",
   "metadata": {},
   "outputs": [],
   "source": [
    "factor = 1.2\n",
    "mpl.rcParams[\"figure.dpi\"] = mpl.rcParamsDefault[\"figure.dpi\"] * factor"
   ]
  },
  {
   "cell_type": "markdown",
   "id": "1a3181aa",
   "metadata": {},
   "source": [
    "Set the color style for all displayed graphs. Run `plt.style.available` for a list of styles."
   ]
  },
  {
   "cell_type": "code",
   "execution_count": 3,
   "id": "db7a2543",
   "metadata": {},
   "outputs": [],
   "source": [
    "# plt.style.use([\"dark_background\"])"
   ]
  },
  {
   "cell_type": "markdown",
   "id": "e75bde39",
   "metadata": {},
   "source": [
    "### Data\n",
    "The data is the same as the data from the [sorting algorithms analysis](https://github.com/irisfield/sorting-algorithms-analysis) project."
   ]
  },
  {
   "cell_type": "code",
   "execution_count": 4,
   "id": "51b7bd6a",
   "metadata": {},
   "outputs": [],
   "source": [
    "tests = pd.read_csv(\"data/sort_tests.csv\")"
   ]
  },
  {
   "cell_type": "code",
   "execution_count": 5,
   "id": "7354c2a1",
   "metadata": {
    "scrolled": true
   },
   "outputs": [
    {
     "data": {
      "text/html": [
       "<div>\n",
       "<style scoped>\n",
       "    .dataframe tbody tr th:only-of-type {\n",
       "        vertical-align: middle;\n",
       "    }\n",
       "\n",
       "    .dataframe tbody tr th {\n",
       "        vertical-align: top;\n",
       "    }\n",
       "\n",
       "    .dataframe thead th {\n",
       "        text-align: right;\n",
       "    }\n",
       "</style>\n",
       "<table border=\"1\" class=\"dataframe\">\n",
       "  <thead>\n",
       "    <tr style=\"text-align: right;\">\n",
       "      <th></th>\n",
       "      <th>SortType</th>\n",
       "      <th>ArrayType</th>\n",
       "      <th>ArraySize</th>\n",
       "      <th>Test1</th>\n",
       "      <th>Test2</th>\n",
       "      <th>Test3</th>\n",
       "      <th>Test4</th>\n",
       "      <th>Test5</th>\n",
       "      <th>Test6</th>\n",
       "      <th>Test7</th>\n",
       "      <th>Test8</th>\n",
       "      <th>Test9</th>\n",
       "      <th>AverageTime</th>\n",
       "    </tr>\n",
       "  </thead>\n",
       "  <tbody>\n",
       "    <tr>\n",
       "      <th>0</th>\n",
       "      <td>BubbleSort</td>\n",
       "      <td>Equal</td>\n",
       "      <td>10000</td>\n",
       "      <td>2.100887</td>\n",
       "      <td>1.816844</td>\n",
       "      <td>1.734940</td>\n",
       "      <td>1.653783</td>\n",
       "      <td>1.620458</td>\n",
       "      <td>1.646332</td>\n",
       "      <td>1.654642</td>\n",
       "      <td>1.675758</td>\n",
       "      <td>0.395732</td>\n",
       "      <td>1.588819</td>\n",
       "    </tr>\n",
       "    <tr>\n",
       "      <th>1</th>\n",
       "      <td>BubbleSort</td>\n",
       "      <td>Equal</td>\n",
       "      <td>25000</td>\n",
       "      <td>0.344438</td>\n",
       "      <td>0.342302</td>\n",
       "      <td>0.340168</td>\n",
       "      <td>0.341084</td>\n",
       "      <td>0.273704</td>\n",
       "      <td>0.343259</td>\n",
       "      <td>0.340629</td>\n",
       "      <td>0.346424</td>\n",
       "      <td>0.286490</td>\n",
       "      <td>0.328722</td>\n",
       "    </tr>\n",
       "    <tr>\n",
       "      <th>2</th>\n",
       "      <td>BubbleSort</td>\n",
       "      <td>Equal</td>\n",
       "      <td>50000</td>\n",
       "      <td>0.669300</td>\n",
       "      <td>0.714362</td>\n",
       "      <td>0.750050</td>\n",
       "      <td>0.751582</td>\n",
       "      <td>0.724130</td>\n",
       "      <td>0.845181</td>\n",
       "      <td>0.480185</td>\n",
       "      <td>0.509878</td>\n",
       "      <td>0.512997</td>\n",
       "      <td>0.661962</td>\n",
       "    </tr>\n",
       "    <tr>\n",
       "      <th>3</th>\n",
       "      <td>BubbleSort</td>\n",
       "      <td>Equal</td>\n",
       "      <td>100000</td>\n",
       "      <td>0.983173</td>\n",
       "      <td>0.811248</td>\n",
       "      <td>0.910891</td>\n",
       "      <td>0.922530</td>\n",
       "      <td>0.944618</td>\n",
       "      <td>0.962387</td>\n",
       "      <td>0.922943</td>\n",
       "      <td>1.047562</td>\n",
       "      <td>0.937066</td>\n",
       "      <td>0.938046</td>\n",
       "    </tr>\n",
       "    <tr>\n",
       "      <th>4</th>\n",
       "      <td>BubbleSort</td>\n",
       "      <td>Random</td>\n",
       "      <td>10000</td>\n",
       "      <td>1423.721529</td>\n",
       "      <td>1615.646777</td>\n",
       "      <td>1636.998131</td>\n",
       "      <td>1733.617812</td>\n",
       "      <td>1699.408568</td>\n",
       "      <td>1608.589898</td>\n",
       "      <td>1640.827512</td>\n",
       "      <td>1584.911188</td>\n",
       "      <td>1805.414216</td>\n",
       "      <td>1638.792847</td>\n",
       "    </tr>\n",
       "    <tr>\n",
       "      <th>5</th>\n",
       "      <td>BubbleSort</td>\n",
       "      <td>Random</td>\n",
       "      <td>25000</td>\n",
       "      <td>17820.525435</td>\n",
       "      <td>14897.161279</td>\n",
       "      <td>14086.136214</td>\n",
       "      <td>12153.546143</td>\n",
       "      <td>13017.104881</td>\n",
       "      <td>16598.033997</td>\n",
       "      <td>16510.642676</td>\n",
       "      <td>15338.869148</td>\n",
       "      <td>17002.808605</td>\n",
       "      <td>15269.425375</td>\n",
       "    </tr>\n",
       "    <tr>\n",
       "      <th>6</th>\n",
       "      <td>BubbleSort</td>\n",
       "      <td>Random</td>\n",
       "      <td>50000</td>\n",
       "      <td>92502.936111</td>\n",
       "      <td>72313.872971</td>\n",
       "      <td>60330.164272</td>\n",
       "      <td>66429.312906</td>\n",
       "      <td>66336.374407</td>\n",
       "      <td>62790.397230</td>\n",
       "      <td>67761.572618</td>\n",
       "      <td>66051.570752</td>\n",
       "      <td>63835.811092</td>\n",
       "      <td>68705.779151</td>\n",
       "    </tr>\n",
       "    <tr>\n",
       "      <th>7</th>\n",
       "      <td>BubbleSort</td>\n",
       "      <td>Random</td>\n",
       "      <td>100000</td>\n",
       "      <td>267902.873662</td>\n",
       "      <td>330858.314055</td>\n",
       "      <td>351393.330513</td>\n",
       "      <td>356742.938208</td>\n",
       "      <td>381057.021634</td>\n",
       "      <td>385180.364030</td>\n",
       "      <td>374069.504284</td>\n",
       "      <td>344426.077008</td>\n",
       "      <td>371334.521629</td>\n",
       "      <td>351440.549447</td>\n",
       "    </tr>\n",
       "    <tr>\n",
       "      <th>8</th>\n",
       "      <td>BubbleSort</td>\n",
       "      <td>Increasing</td>\n",
       "      <td>10000</td>\n",
       "      <td>0.120689</td>\n",
       "      <td>0.142236</td>\n",
       "      <td>0.168250</td>\n",
       "      <td>0.139213</td>\n",
       "      <td>0.133302</td>\n",
       "      <td>0.125839</td>\n",
       "      <td>0.138850</td>\n",
       "      <td>0.139291</td>\n",
       "      <td>0.142248</td>\n",
       "      <td>0.138879</td>\n",
       "    </tr>\n",
       "    <tr>\n",
       "      <th>9</th>\n",
       "      <td>BubbleSort</td>\n",
       "      <td>Increasing</td>\n",
       "      <td>25000</td>\n",
       "      <td>0.352865</td>\n",
       "      <td>0.260573</td>\n",
       "      <td>0.353962</td>\n",
       "      <td>0.307230</td>\n",
       "      <td>0.354571</td>\n",
       "      <td>0.339063</td>\n",
       "      <td>0.341304</td>\n",
       "      <td>0.345099</td>\n",
       "      <td>0.384553</td>\n",
       "      <td>0.337691</td>\n",
       "    </tr>\n",
       "    <tr>\n",
       "      <th>10</th>\n",
       "      <td>BubbleSort</td>\n",
       "      <td>Increasing</td>\n",
       "      <td>50000</td>\n",
       "      <td>0.673094</td>\n",
       "      <td>0.661494</td>\n",
       "      <td>0.697787</td>\n",
       "      <td>0.714908</td>\n",
       "      <td>0.644721</td>\n",
       "      <td>0.678062</td>\n",
       "      <td>0.685012</td>\n",
       "      <td>0.711267</td>\n",
       "      <td>0.681670</td>\n",
       "      <td>0.683112</td>\n",
       "    </tr>\n",
       "    <tr>\n",
       "      <th>11</th>\n",
       "      <td>BubbleSort</td>\n",
       "      <td>Increasing</td>\n",
       "      <td>100000</td>\n",
       "      <td>1.341175</td>\n",
       "      <td>1.323934</td>\n",
       "      <td>1.335968</td>\n",
       "      <td>1.361479</td>\n",
       "      <td>1.294901</td>\n",
       "      <td>1.296945</td>\n",
       "      <td>1.297528</td>\n",
       "      <td>1.275745</td>\n",
       "      <td>1.292734</td>\n",
       "      <td>1.313378</td>\n",
       "    </tr>\n",
       "    <tr>\n",
       "      <th>12</th>\n",
       "      <td>BubbleSort</td>\n",
       "      <td>Decreasing</td>\n",
       "      <td>10000</td>\n",
       "      <td>1890.347502</td>\n",
       "      <td>1870.582833</td>\n",
       "      <td>1836.410409</td>\n",
       "      <td>1817.046934</td>\n",
       "      <td>1790.317271</td>\n",
       "      <td>1786.037636</td>\n",
       "      <td>1880.798645</td>\n",
       "      <td>1957.735233</td>\n",
       "      <td>1833.023001</td>\n",
       "      <td>1851.366607</td>\n",
       "    </tr>\n",
       "    <tr>\n",
       "      <th>13</th>\n",
       "      <td>BubbleSort</td>\n",
       "      <td>Decreasing</td>\n",
       "      <td>25000</td>\n",
       "      <td>12364.737865</td>\n",
       "      <td>15541.186001</td>\n",
       "      <td>12949.365763</td>\n",
       "      <td>13409.250138</td>\n",
       "      <td>12999.199535</td>\n",
       "      <td>12909.609447</td>\n",
       "      <td>13674.751174</td>\n",
       "      <td>13589.919443</td>\n",
       "      <td>12957.101800</td>\n",
       "      <td>13377.235685</td>\n",
       "    </tr>\n",
       "    <tr>\n",
       "      <th>14</th>\n",
       "      <td>BubbleSort</td>\n",
       "      <td>Decreasing</td>\n",
       "      <td>50000</td>\n",
       "      <td>70422.465870</td>\n",
       "      <td>58378.700577</td>\n",
       "      <td>63525.099117</td>\n",
       "      <td>63534.600119</td>\n",
       "      <td>64628.354671</td>\n",
       "      <td>64830.384051</td>\n",
       "      <td>64853.070004</td>\n",
       "      <td>65780.791196</td>\n",
       "      <td>64784.540210</td>\n",
       "      <td>64526.445090</td>\n",
       "    </tr>\n",
       "    <tr>\n",
       "      <th>15</th>\n",
       "      <td>BubbleSort</td>\n",
       "      <td>Decreasing</td>\n",
       "      <td>100000</td>\n",
       "      <td>330836.289871</td>\n",
       "      <td>316854.730085</td>\n",
       "      <td>309656.122199</td>\n",
       "      <td>340723.923327</td>\n",
       "      <td>327021.117348</td>\n",
       "      <td>308946.007002</td>\n",
       "      <td>283306.478006</td>\n",
       "      <td>278355.569417</td>\n",
       "      <td>312542.647546</td>\n",
       "      <td>312026.987200</td>\n",
       "    </tr>\n",
       "    <tr>\n",
       "      <th>16</th>\n",
       "      <td>BubbleSort</td>\n",
       "      <td>IncreasingAndRandom</td>\n",
       "      <td>10000</td>\n",
       "      <td>2281.935778</td>\n",
       "      <td>1827.422186</td>\n",
       "      <td>2101.947333</td>\n",
       "      <td>1697.079499</td>\n",
       "      <td>1341.534980</td>\n",
       "      <td>1955.068918</td>\n",
       "      <td>2145.132378</td>\n",
       "      <td>1523.861371</td>\n",
       "      <td>1435.242861</td>\n",
       "      <td>1812.136144</td>\n",
       "    </tr>\n",
       "    <tr>\n",
       "      <th>17</th>\n",
       "      <td>BubbleSort</td>\n",
       "      <td>IncreasingAndRandom</td>\n",
       "      <td>25000</td>\n",
       "      <td>13334.213743</td>\n",
       "      <td>19196.284507</td>\n",
       "      <td>15552.665566</td>\n",
       "      <td>14975.660041</td>\n",
       "      <td>12651.500445</td>\n",
       "      <td>12629.605160</td>\n",
       "      <td>23264.544694</td>\n",
       "      <td>16877.712497</td>\n",
       "      <td>18913.672163</td>\n",
       "      <td>16377.317646</td>\n",
       "    </tr>\n",
       "    <tr>\n",
       "      <th>18</th>\n",
       "      <td>BubbleSort</td>\n",
       "      <td>IncreasingAndRandom</td>\n",
       "      <td>50000</td>\n",
       "      <td>53378.066072</td>\n",
       "      <td>56075.856586</td>\n",
       "      <td>60833.953185</td>\n",
       "      <td>51900.886502</td>\n",
       "      <td>58216.164596</td>\n",
       "      <td>68047.779286</td>\n",
       "      <td>56231.122980</td>\n",
       "      <td>49088.158513</td>\n",
       "      <td>47287.346119</td>\n",
       "      <td>55673.259315</td>\n",
       "    </tr>\n",
       "    <tr>\n",
       "      <th>19</th>\n",
       "      <td>BubbleSort</td>\n",
       "      <td>IncreasingAndRandom</td>\n",
       "      <td>100000</td>\n",
       "      <td>250439.885202</td>\n",
       "      <td>191443.035920</td>\n",
       "      <td>182561.153150</td>\n",
       "      <td>178786.632646</td>\n",
       "      <td>172951.776610</td>\n",
       "      <td>169477.561887</td>\n",
       "      <td>170423.353572</td>\n",
       "      <td>172121.351865</td>\n",
       "      <td>166182.704957</td>\n",
       "      <td>183820.828423</td>\n",
       "    </tr>\n",
       "    <tr>\n",
       "      <th>20</th>\n",
       "      <td>InsertionSort</td>\n",
       "      <td>Equal</td>\n",
       "      <td>10000</td>\n",
       "      <td>2.558651</td>\n",
       "      <td>2.645173</td>\n",
       "      <td>2.455872</td>\n",
       "      <td>2.484236</td>\n",
       "      <td>2.518668</td>\n",
       "      <td>2.561544</td>\n",
       "      <td>2.480997</td>\n",
       "      <td>0.557117</td>\n",
       "      <td>0.512427</td>\n",
       "      <td>2.086076</td>\n",
       "    </tr>\n",
       "    <tr>\n",
       "      <th>21</th>\n",
       "      <td>InsertionSort</td>\n",
       "      <td>Equal</td>\n",
       "      <td>25000</td>\n",
       "      <td>1.289582</td>\n",
       "      <td>1.262199</td>\n",
       "      <td>1.317171</td>\n",
       "      <td>1.239929</td>\n",
       "      <td>1.124617</td>\n",
       "      <td>1.015248</td>\n",
       "      <td>1.012408</td>\n",
       "      <td>1.278407</td>\n",
       "      <td>1.275438</td>\n",
       "      <td>1.201666</td>\n",
       "    </tr>\n",
       "    <tr>\n",
       "      <th>22</th>\n",
       "      <td>InsertionSort</td>\n",
       "      <td>Equal</td>\n",
       "      <td>50000</td>\n",
       "      <td>2.360083</td>\n",
       "      <td>1.361029</td>\n",
       "      <td>1.451563</td>\n",
       "      <td>1.370376</td>\n",
       "      <td>1.402697</td>\n",
       "      <td>1.757090</td>\n",
       "      <td>1.819836</td>\n",
       "      <td>1.748641</td>\n",
       "      <td>1.384100</td>\n",
       "      <td>1.628379</td>\n",
       "    </tr>\n",
       "    <tr>\n",
       "      <th>23</th>\n",
       "      <td>InsertionSort</td>\n",
       "      <td>Equal</td>\n",
       "      <td>100000</td>\n",
       "      <td>2.330081</td>\n",
       "      <td>1.450689</td>\n",
       "      <td>2.411394</td>\n",
       "      <td>17.509203</td>\n",
       "      <td>2.134949</td>\n",
       "      <td>2.081169</td>\n",
       "      <td>1.980030</td>\n",
       "      <td>2.089747</td>\n",
       "      <td>2.290532</td>\n",
       "      <td>3.808643</td>\n",
       "    </tr>\n",
       "    <tr>\n",
       "      <th>24</th>\n",
       "      <td>InsertionSort</td>\n",
       "      <td>Random</td>\n",
       "      <td>10000</td>\n",
       "      <td>281.725797</td>\n",
       "      <td>161.335567</td>\n",
       "      <td>277.158503</td>\n",
       "      <td>160.137250</td>\n",
       "      <td>159.700397</td>\n",
       "      <td>208.479968</td>\n",
       "      <td>158.980267</td>\n",
       "      <td>167.194650</td>\n",
       "      <td>174.212434</td>\n",
       "      <td>194.324981</td>\n",
       "    </tr>\n",
       "    <tr>\n",
       "      <th>25</th>\n",
       "      <td>InsertionSort</td>\n",
       "      <td>Random</td>\n",
       "      <td>25000</td>\n",
       "      <td>1212.783721</td>\n",
       "      <td>1125.864786</td>\n",
       "      <td>1238.664347</td>\n",
       "      <td>1224.650708</td>\n",
       "      <td>1227.809955</td>\n",
       "      <td>1697.376005</td>\n",
       "      <td>1799.357571</td>\n",
       "      <td>1258.154792</td>\n",
       "      <td>1111.602672</td>\n",
       "      <td>1321.807173</td>\n",
       "    </tr>\n",
       "    <tr>\n",
       "      <th>26</th>\n",
       "      <td>InsertionSort</td>\n",
       "      <td>Random</td>\n",
       "      <td>50000</td>\n",
       "      <td>7681.506330</td>\n",
       "      <td>6285.086732</td>\n",
       "      <td>5628.076695</td>\n",
       "      <td>5594.552843</td>\n",
       "      <td>5395.659893</td>\n",
       "      <td>5472.317212</td>\n",
       "      <td>5744.110293</td>\n",
       "      <td>7339.988492</td>\n",
       "      <td>6100.001824</td>\n",
       "      <td>6137.922257</td>\n",
       "    </tr>\n",
       "    <tr>\n",
       "      <th>27</th>\n",
       "      <td>InsertionSort</td>\n",
       "      <td>Random</td>\n",
       "      <td>100000</td>\n",
       "      <td>47552.333222</td>\n",
       "      <td>32229.410293</td>\n",
       "      <td>47233.835518</td>\n",
       "      <td>47310.905086</td>\n",
       "      <td>45082.014207</td>\n",
       "      <td>48186.640291</td>\n",
       "      <td>49297.826765</td>\n",
       "      <td>49157.385355</td>\n",
       "      <td>48019.182512</td>\n",
       "      <td>46007.725916</td>\n",
       "    </tr>\n",
       "    <tr>\n",
       "      <th>28</th>\n",
       "      <td>InsertionSort</td>\n",
       "      <td>Increasing</td>\n",
       "      <td>10000</td>\n",
       "      <td>0.241764</td>\n",
       "      <td>0.341790</td>\n",
       "      <td>0.288711</td>\n",
       "      <td>0.266885</td>\n",
       "      <td>0.296726</td>\n",
       "      <td>0.252398</td>\n",
       "      <td>0.278638</td>\n",
       "      <td>0.279112</td>\n",
       "      <td>0.275435</td>\n",
       "      <td>0.280162</td>\n",
       "    </tr>\n",
       "    <tr>\n",
       "      <th>29</th>\n",
       "      <td>InsertionSort</td>\n",
       "      <td>Increasing</td>\n",
       "      <td>25000</td>\n",
       "      <td>0.446764</td>\n",
       "      <td>0.500711</td>\n",
       "      <td>0.439523</td>\n",
       "      <td>0.482045</td>\n",
       "      <td>0.463013</td>\n",
       "      <td>0.482884</td>\n",
       "      <td>0.481427</td>\n",
       "      <td>0.510985</td>\n",
       "      <td>0.536973</td>\n",
       "      <td>0.482702</td>\n",
       "    </tr>\n",
       "    <tr>\n",
       "      <th>30</th>\n",
       "      <td>InsertionSort</td>\n",
       "      <td>Increasing</td>\n",
       "      <td>50000</td>\n",
       "      <td>0.980448</td>\n",
       "      <td>1.046775</td>\n",
       "      <td>0.975051</td>\n",
       "      <td>1.017225</td>\n",
       "      <td>0.970868</td>\n",
       "      <td>1.044143</td>\n",
       "      <td>0.979950</td>\n",
       "      <td>0.971647</td>\n",
       "      <td>0.976672</td>\n",
       "      <td>0.995864</td>\n",
       "    </tr>\n",
       "    <tr>\n",
       "      <th>31</th>\n",
       "      <td>InsertionSort</td>\n",
       "      <td>Increasing</td>\n",
       "      <td>100000</td>\n",
       "      <td>1.910958</td>\n",
       "      <td>1.934936</td>\n",
       "      <td>1.939034</td>\n",
       "      <td>1.993901</td>\n",
       "      <td>1.969743</td>\n",
       "      <td>1.952931</td>\n",
       "      <td>1.950049</td>\n",
       "      <td>1.910166</td>\n",
       "      <td>1.917250</td>\n",
       "      <td>1.942107</td>\n",
       "    </tr>\n",
       "    <tr>\n",
       "      <th>32</th>\n",
       "      <td>InsertionSort</td>\n",
       "      <td>Decreasing</td>\n",
       "      <td>10000</td>\n",
       "      <td>364.769934</td>\n",
       "      <td>350.269906</td>\n",
       "      <td>353.329910</td>\n",
       "      <td>349.121492</td>\n",
       "      <td>348.866894</td>\n",
       "      <td>357.147496</td>\n",
       "      <td>363.834479</td>\n",
       "      <td>364.316429</td>\n",
       "      <td>372.629471</td>\n",
       "      <td>358.254001</td>\n",
       "    </tr>\n",
       "    <tr>\n",
       "      <th>33</th>\n",
       "      <td>InsertionSort</td>\n",
       "      <td>Decreasing</td>\n",
       "      <td>25000</td>\n",
       "      <td>2216.726470</td>\n",
       "      <td>2194.807395</td>\n",
       "      <td>2287.644571</td>\n",
       "      <td>2278.354931</td>\n",
       "      <td>2321.201306</td>\n",
       "      <td>2249.281505</td>\n",
       "      <td>2205.917195</td>\n",
       "      <td>2188.393909</td>\n",
       "      <td>2190.719562</td>\n",
       "      <td>2237.005204</td>\n",
       "    </tr>\n",
       "    <tr>\n",
       "      <th>34</th>\n",
       "      <td>InsertionSort</td>\n",
       "      <td>Decreasing</td>\n",
       "      <td>50000</td>\n",
       "      <td>8755.468951</td>\n",
       "      <td>7953.875652</td>\n",
       "      <td>7650.874904</td>\n",
       "      <td>7828.506013</td>\n",
       "      <td>7631.317190</td>\n",
       "      <td>8332.765812</td>\n",
       "      <td>8630.791503</td>\n",
       "      <td>8853.750940</td>\n",
       "      <td>9004.585695</td>\n",
       "      <td>8293.548517</td>\n",
       "    </tr>\n",
       "    <tr>\n",
       "      <th>35</th>\n",
       "      <td>InsertionSort</td>\n",
       "      <td>Decreasing</td>\n",
       "      <td>100000</td>\n",
       "      <td>47036.697777</td>\n",
       "      <td>45329.465862</td>\n",
       "      <td>44714.429161</td>\n",
       "      <td>41923.113543</td>\n",
       "      <td>37306.083053</td>\n",
       "      <td>41932.260039</td>\n",
       "      <td>44867.508380</td>\n",
       "      <td>43442.212537</td>\n",
       "      <td>44921.422549</td>\n",
       "      <td>43497.021433</td>\n",
       "    </tr>\n",
       "    <tr>\n",
       "      <th>36</th>\n",
       "      <td>InsertionSort</td>\n",
       "      <td>IncreasingAndRandom</td>\n",
       "      <td>10000</td>\n",
       "      <td>4.141320</td>\n",
       "      <td>17.006841</td>\n",
       "      <td>32.746653</td>\n",
       "      <td>18.759789</td>\n",
       "      <td>21.092887</td>\n",
       "      <td>16.907966</td>\n",
       "      <td>36.300839</td>\n",
       "      <td>33.868658</td>\n",
       "      <td>11.339261</td>\n",
       "      <td>21.351579</td>\n",
       "    </tr>\n",
       "    <tr>\n",
       "      <th>37</th>\n",
       "      <td>InsertionSort</td>\n",
       "      <td>IncreasingAndRandom</td>\n",
       "      <td>25000</td>\n",
       "      <td>38.839600</td>\n",
       "      <td>61.442842</td>\n",
       "      <td>145.860659</td>\n",
       "      <td>177.019867</td>\n",
       "      <td>27.644409</td>\n",
       "      <td>112.172875</td>\n",
       "      <td>58.367325</td>\n",
       "      <td>27.916706</td>\n",
       "      <td>194.972133</td>\n",
       "      <td>93.804046</td>\n",
       "    </tr>\n",
       "    <tr>\n",
       "      <th>38</th>\n",
       "      <td>InsertionSort</td>\n",
       "      <td>IncreasingAndRandom</td>\n",
       "      <td>50000</td>\n",
       "      <td>1025.778919</td>\n",
       "      <td>524.534894</td>\n",
       "      <td>1131.751500</td>\n",
       "      <td>184.513632</td>\n",
       "      <td>52.151583</td>\n",
       "      <td>651.409827</td>\n",
       "      <td>520.689934</td>\n",
       "      <td>603.093849</td>\n",
       "      <td>58.380382</td>\n",
       "      <td>528.033835</td>\n",
       "    </tr>\n",
       "    <tr>\n",
       "      <th>39</th>\n",
       "      <td>InsertionSort</td>\n",
       "      <td>IncreasingAndRandom</td>\n",
       "      <td>100000</td>\n",
       "      <td>204.300309</td>\n",
       "      <td>4356.873628</td>\n",
       "      <td>6270.133745</td>\n",
       "      <td>2730.650066</td>\n",
       "      <td>1335.104067</td>\n",
       "      <td>2273.654913</td>\n",
       "      <td>1106.007188</td>\n",
       "      <td>2452.015569</td>\n",
       "      <td>4321.990748</td>\n",
       "      <td>2783.414470</td>\n",
       "    </tr>\n",
       "    <tr>\n",
       "      <th>40</th>\n",
       "      <td>SelectionSort</td>\n",
       "      <td>Equal</td>\n",
       "      <td>10000</td>\n",
       "      <td>173.075217</td>\n",
       "      <td>131.456803</td>\n",
       "      <td>89.350068</td>\n",
       "      <td>131.076622</td>\n",
       "      <td>131.153940</td>\n",
       "      <td>131.244422</td>\n",
       "      <td>131.756129</td>\n",
       "      <td>131.575708</td>\n",
       "      <td>131.333285</td>\n",
       "      <td>131.335799</td>\n",
       "    </tr>\n",
       "    <tr>\n",
       "      <th>41</th>\n",
       "      <td>SelectionSort</td>\n",
       "      <td>Equal</td>\n",
       "      <td>25000</td>\n",
       "      <td>842.236610</td>\n",
       "      <td>840.504578</td>\n",
       "      <td>840.266195</td>\n",
       "      <td>841.187207</td>\n",
       "      <td>842.474292</td>\n",
       "      <td>841.649299</td>\n",
       "      <td>837.758452</td>\n",
       "      <td>758.924020</td>\n",
       "      <td>759.291172</td>\n",
       "      <td>822.699091</td>\n",
       "    </tr>\n",
       "    <tr>\n",
       "      <th>42</th>\n",
       "      <td>SelectionSort</td>\n",
       "      <td>Equal</td>\n",
       "      <td>50000</td>\n",
       "      <td>3154.388783</td>\n",
       "      <td>2843.448585</td>\n",
       "      <td>2677.475985</td>\n",
       "      <td>2646.239427</td>\n",
       "      <td>3357.265502</td>\n",
       "      <td>2892.510230</td>\n",
       "      <td>2785.746662</td>\n",
       "      <td>3289.087716</td>\n",
       "      <td>2577.941685</td>\n",
       "      <td>2913.789397</td>\n",
       "    </tr>\n",
       "    <tr>\n",
       "      <th>43</th>\n",
       "      <td>SelectionSort</td>\n",
       "      <td>Equal</td>\n",
       "      <td>100000</td>\n",
       "      <td>20113.363616</td>\n",
       "      <td>26552.221987</td>\n",
       "      <td>18754.453047</td>\n",
       "      <td>18966.682375</td>\n",
       "      <td>19966.958698</td>\n",
       "      <td>18707.986529</td>\n",
       "      <td>19426.331803</td>\n",
       "      <td>17489.429152</td>\n",
       "      <td>17847.406844</td>\n",
       "      <td>19758.314894</td>\n",
       "    </tr>\n",
       "    <tr>\n",
       "      <th>44</th>\n",
       "      <td>SelectionSort</td>\n",
       "      <td>Random</td>\n",
       "      <td>10000</td>\n",
       "      <td>285.261931</td>\n",
       "      <td>186.525664</td>\n",
       "      <td>186.966206</td>\n",
       "      <td>178.568878</td>\n",
       "      <td>179.746647</td>\n",
       "      <td>183.005233</td>\n",
       "      <td>184.752258</td>\n",
       "      <td>175.191271</td>\n",
       "      <td>171.197822</td>\n",
       "      <td>192.357323</td>\n",
       "    </tr>\n",
       "    <tr>\n",
       "      <th>45</th>\n",
       "      <td>SelectionSort</td>\n",
       "      <td>Random</td>\n",
       "      <td>25000</td>\n",
       "      <td>1281.578378</td>\n",
       "      <td>1232.961704</td>\n",
       "      <td>1070.885808</td>\n",
       "      <td>1196.273893</td>\n",
       "      <td>1222.620978</td>\n",
       "      <td>1223.784598</td>\n",
       "      <td>1214.701385</td>\n",
       "      <td>1244.420786</td>\n",
       "      <td>1227.454843</td>\n",
       "      <td>1212.742485</td>\n",
       "    </tr>\n",
       "    <tr>\n",
       "      <th>46</th>\n",
       "      <td>SelectionSort</td>\n",
       "      <td>Random</td>\n",
       "      <td>50000</td>\n",
       "      <td>6875.823209</td>\n",
       "      <td>6633.332262</td>\n",
       "      <td>6722.528415</td>\n",
       "      <td>6728.309014</td>\n",
       "      <td>6603.994202</td>\n",
       "      <td>6879.261150</td>\n",
       "      <td>6663.622299</td>\n",
       "      <td>6217.895664</td>\n",
       "      <td>6055.694895</td>\n",
       "      <td>6597.829012</td>\n",
       "    </tr>\n",
       "    <tr>\n",
       "      <th>47</th>\n",
       "      <td>SelectionSort</td>\n",
       "      <td>Random</td>\n",
       "      <td>100000</td>\n",
       "      <td>46606.163632</td>\n",
       "      <td>47058.006640</td>\n",
       "      <td>46564.499280</td>\n",
       "      <td>48007.310952</td>\n",
       "      <td>46180.499340</td>\n",
       "      <td>51747.505172</td>\n",
       "      <td>60016.320982</td>\n",
       "      <td>49022.602163</td>\n",
       "      <td>46485.920513</td>\n",
       "      <td>49076.536519</td>\n",
       "    </tr>\n",
       "    <tr>\n",
       "      <th>48</th>\n",
       "      <td>SelectionSort</td>\n",
       "      <td>Increasing</td>\n",
       "      <td>10000</td>\n",
       "      <td>130.658473</td>\n",
       "      <td>129.385431</td>\n",
       "      <td>129.372475</td>\n",
       "      <td>129.330929</td>\n",
       "      <td>130.218048</td>\n",
       "      <td>129.795484</td>\n",
       "      <td>129.292666</td>\n",
       "      <td>130.508839</td>\n",
       "      <td>129.384941</td>\n",
       "      <td>129.771920</td>\n",
       "    </tr>\n",
       "    <tr>\n",
       "      <th>49</th>\n",
       "      <td>SelectionSort</td>\n",
       "      <td>Increasing</td>\n",
       "      <td>25000</td>\n",
       "      <td>818.972067</td>\n",
       "      <td>819.912229</td>\n",
       "      <td>847.498567</td>\n",
       "      <td>870.711515</td>\n",
       "      <td>824.278347</td>\n",
       "      <td>820.083299</td>\n",
       "      <td>818.703509</td>\n",
       "      <td>841.110608</td>\n",
       "      <td>822.148718</td>\n",
       "      <td>831.490984</td>\n",
       "    </tr>\n",
       "    <tr>\n",
       "      <th>50</th>\n",
       "      <td>SelectionSort</td>\n",
       "      <td>Increasing</td>\n",
       "      <td>50000</td>\n",
       "      <td>3675.771015</td>\n",
       "      <td>3976.074232</td>\n",
       "      <td>3977.723274</td>\n",
       "      <td>3943.757923</td>\n",
       "      <td>3946.305520</td>\n",
       "      <td>3781.101240</td>\n",
       "      <td>3908.446959</td>\n",
       "      <td>3576.500635</td>\n",
       "      <td>3734.849647</td>\n",
       "      <td>3835.614493</td>\n",
       "    </tr>\n",
       "    <tr>\n",
       "      <th>51</th>\n",
       "      <td>SelectionSort</td>\n",
       "      <td>Increasing</td>\n",
       "      <td>100000</td>\n",
       "      <td>24339.765617</td>\n",
       "      <td>26761.980754</td>\n",
       "      <td>23022.251393</td>\n",
       "      <td>23650.610050</td>\n",
       "      <td>22916.220783</td>\n",
       "      <td>24673.836545</td>\n",
       "      <td>24356.662716</td>\n",
       "      <td>25746.160404</td>\n",
       "      <td>25120.036311</td>\n",
       "      <td>24509.724952</td>\n",
       "    </tr>\n",
       "    <tr>\n",
       "      <th>52</th>\n",
       "      <td>SelectionSort</td>\n",
       "      <td>Decreasing</td>\n",
       "      <td>10000</td>\n",
       "      <td>143.606889</td>\n",
       "      <td>143.200417</td>\n",
       "      <td>145.375992</td>\n",
       "      <td>147.959045</td>\n",
       "      <td>158.702720</td>\n",
       "      <td>149.988432</td>\n",
       "      <td>144.189928</td>\n",
       "      <td>143.096258</td>\n",
       "      <td>143.280787</td>\n",
       "      <td>146.600052</td>\n",
       "    </tr>\n",
       "    <tr>\n",
       "      <th>53</th>\n",
       "      <td>SelectionSort</td>\n",
       "      <td>Decreasing</td>\n",
       "      <td>25000</td>\n",
       "      <td>900.418624</td>\n",
       "      <td>901.105561</td>\n",
       "      <td>902.809849</td>\n",
       "      <td>902.952871</td>\n",
       "      <td>899.662389</td>\n",
       "      <td>900.372541</td>\n",
       "      <td>904.947112</td>\n",
       "      <td>903.838818</td>\n",
       "      <td>901.402846</td>\n",
       "      <td>901.945623</td>\n",
       "    </tr>\n",
       "    <tr>\n",
       "      <th>54</th>\n",
       "      <td>SelectionSort</td>\n",
       "      <td>Decreasing</td>\n",
       "      <td>50000</td>\n",
       "      <td>4031.698880</td>\n",
       "      <td>4032.127410</td>\n",
       "      <td>3988.006183</td>\n",
       "      <td>4164.588436</td>\n",
       "      <td>4179.301637</td>\n",
       "      <td>4135.064710</td>\n",
       "      <td>4228.924657</td>\n",
       "      <td>4006.414764</td>\n",
       "      <td>4231.719567</td>\n",
       "      <td>4110.871804</td>\n",
       "    </tr>\n",
       "    <tr>\n",
       "      <th>55</th>\n",
       "      <td>SelectionSort</td>\n",
       "      <td>Decreasing</td>\n",
       "      <td>100000</td>\n",
       "      <td>22942.710361</td>\n",
       "      <td>30729.280142</td>\n",
       "      <td>28635.481333</td>\n",
       "      <td>29403.771399</td>\n",
       "      <td>26635.787368</td>\n",
       "      <td>26047.915222</td>\n",
       "      <td>25208.378627</td>\n",
       "      <td>26538.443817</td>\n",
       "      <td>29803.705468</td>\n",
       "      <td>27327.274859</td>\n",
       "    </tr>\n",
       "    <tr>\n",
       "      <th>56</th>\n",
       "      <td>SelectionSort</td>\n",
       "      <td>IncreasingAndRandom</td>\n",
       "      <td>10000</td>\n",
       "      <td>156.186070</td>\n",
       "      <td>154.868934</td>\n",
       "      <td>155.178174</td>\n",
       "      <td>151.974177</td>\n",
       "      <td>154.281829</td>\n",
       "      <td>153.692023</td>\n",
       "      <td>154.568771</td>\n",
       "      <td>155.058160</td>\n",
       "      <td>152.523529</td>\n",
       "      <td>154.259074</td>\n",
       "    </tr>\n",
       "    <tr>\n",
       "      <th>57</th>\n",
       "      <td>SelectionSort</td>\n",
       "      <td>IncreasingAndRandom</td>\n",
       "      <td>25000</td>\n",
       "      <td>970.667792</td>\n",
       "      <td>1002.008700</td>\n",
       "      <td>966.480787</td>\n",
       "      <td>956.113187</td>\n",
       "      <td>959.075525</td>\n",
       "      <td>978.195904</td>\n",
       "      <td>978.264564</td>\n",
       "      <td>980.201183</td>\n",
       "      <td>961.504599</td>\n",
       "      <td>972.501360</td>\n",
       "    </tr>\n",
       "    <tr>\n",
       "      <th>58</th>\n",
       "      <td>SelectionSort</td>\n",
       "      <td>IncreasingAndRandom</td>\n",
       "      <td>50000</td>\n",
       "      <td>4125.416736</td>\n",
       "      <td>4419.971710</td>\n",
       "      <td>4426.880714</td>\n",
       "      <td>4122.692600</td>\n",
       "      <td>4381.239176</td>\n",
       "      <td>4122.196497</td>\n",
       "      <td>4315.357717</td>\n",
       "      <td>4461.265770</td>\n",
       "      <td>4338.080916</td>\n",
       "      <td>4301.455759</td>\n",
       "    </tr>\n",
       "    <tr>\n",
       "      <th>59</th>\n",
       "      <td>SelectionSort</td>\n",
       "      <td>IncreasingAndRandom</td>\n",
       "      <td>100000</td>\n",
       "      <td>31564.758929</td>\n",
       "      <td>27116.976686</td>\n",
       "      <td>25477.950296</td>\n",
       "      <td>27360.491694</td>\n",
       "      <td>28829.542922</td>\n",
       "      <td>26479.193239</td>\n",
       "      <td>22953.966730</td>\n",
       "      <td>27997.937959</td>\n",
       "      <td>25953.701965</td>\n",
       "      <td>27081.613380</td>\n",
       "    </tr>\n",
       "  </tbody>\n",
       "</table>\n",
       "</div>"
      ],
      "text/plain": [
       "         SortType            ArrayType  ArraySize          Test1  \\\n",
       "0      BubbleSort                Equal      10000       2.100887   \n",
       "1      BubbleSort                Equal      25000       0.344438   \n",
       "2      BubbleSort                Equal      50000       0.669300   \n",
       "3      BubbleSort                Equal     100000       0.983173   \n",
       "4      BubbleSort               Random      10000    1423.721529   \n",
       "5      BubbleSort               Random      25000   17820.525435   \n",
       "6      BubbleSort               Random      50000   92502.936111   \n",
       "7      BubbleSort               Random     100000  267902.873662   \n",
       "8      BubbleSort           Increasing      10000       0.120689   \n",
       "9      BubbleSort           Increasing      25000       0.352865   \n",
       "10     BubbleSort           Increasing      50000       0.673094   \n",
       "11     BubbleSort           Increasing     100000       1.341175   \n",
       "12     BubbleSort           Decreasing      10000    1890.347502   \n",
       "13     BubbleSort           Decreasing      25000   12364.737865   \n",
       "14     BubbleSort           Decreasing      50000   70422.465870   \n",
       "15     BubbleSort           Decreasing     100000  330836.289871   \n",
       "16     BubbleSort  IncreasingAndRandom      10000    2281.935778   \n",
       "17     BubbleSort  IncreasingAndRandom      25000   13334.213743   \n",
       "18     BubbleSort  IncreasingAndRandom      50000   53378.066072   \n",
       "19     BubbleSort  IncreasingAndRandom     100000  250439.885202   \n",
       "20  InsertionSort                Equal      10000       2.558651   \n",
       "21  InsertionSort                Equal      25000       1.289582   \n",
       "22  InsertionSort                Equal      50000       2.360083   \n",
       "23  InsertionSort                Equal     100000       2.330081   \n",
       "24  InsertionSort               Random      10000     281.725797   \n",
       "25  InsertionSort               Random      25000    1212.783721   \n",
       "26  InsertionSort               Random      50000    7681.506330   \n",
       "27  InsertionSort               Random     100000   47552.333222   \n",
       "28  InsertionSort           Increasing      10000       0.241764   \n",
       "29  InsertionSort           Increasing      25000       0.446764   \n",
       "30  InsertionSort           Increasing      50000       0.980448   \n",
       "31  InsertionSort           Increasing     100000       1.910958   \n",
       "32  InsertionSort           Decreasing      10000     364.769934   \n",
       "33  InsertionSort           Decreasing      25000    2216.726470   \n",
       "34  InsertionSort           Decreasing      50000    8755.468951   \n",
       "35  InsertionSort           Decreasing     100000   47036.697777   \n",
       "36  InsertionSort  IncreasingAndRandom      10000       4.141320   \n",
       "37  InsertionSort  IncreasingAndRandom      25000      38.839600   \n",
       "38  InsertionSort  IncreasingAndRandom      50000    1025.778919   \n",
       "39  InsertionSort  IncreasingAndRandom     100000     204.300309   \n",
       "40  SelectionSort                Equal      10000     173.075217   \n",
       "41  SelectionSort                Equal      25000     842.236610   \n",
       "42  SelectionSort                Equal      50000    3154.388783   \n",
       "43  SelectionSort                Equal     100000   20113.363616   \n",
       "44  SelectionSort               Random      10000     285.261931   \n",
       "45  SelectionSort               Random      25000    1281.578378   \n",
       "46  SelectionSort               Random      50000    6875.823209   \n",
       "47  SelectionSort               Random     100000   46606.163632   \n",
       "48  SelectionSort           Increasing      10000     130.658473   \n",
       "49  SelectionSort           Increasing      25000     818.972067   \n",
       "50  SelectionSort           Increasing      50000    3675.771015   \n",
       "51  SelectionSort           Increasing     100000   24339.765617   \n",
       "52  SelectionSort           Decreasing      10000     143.606889   \n",
       "53  SelectionSort           Decreasing      25000     900.418624   \n",
       "54  SelectionSort           Decreasing      50000    4031.698880   \n",
       "55  SelectionSort           Decreasing     100000   22942.710361   \n",
       "56  SelectionSort  IncreasingAndRandom      10000     156.186070   \n",
       "57  SelectionSort  IncreasingAndRandom      25000     970.667792   \n",
       "58  SelectionSort  IncreasingAndRandom      50000    4125.416736   \n",
       "59  SelectionSort  IncreasingAndRandom     100000   31564.758929   \n",
       "\n",
       "            Test2          Test3          Test4          Test5          Test6  \\\n",
       "0        1.816844       1.734940       1.653783       1.620458       1.646332   \n",
       "1        0.342302       0.340168       0.341084       0.273704       0.343259   \n",
       "2        0.714362       0.750050       0.751582       0.724130       0.845181   \n",
       "3        0.811248       0.910891       0.922530       0.944618       0.962387   \n",
       "4     1615.646777    1636.998131    1733.617812    1699.408568    1608.589898   \n",
       "5    14897.161279   14086.136214   12153.546143   13017.104881   16598.033997   \n",
       "6    72313.872971   60330.164272   66429.312906   66336.374407   62790.397230   \n",
       "7   330858.314055  351393.330513  356742.938208  381057.021634  385180.364030   \n",
       "8        0.142236       0.168250       0.139213       0.133302       0.125839   \n",
       "9        0.260573       0.353962       0.307230       0.354571       0.339063   \n",
       "10       0.661494       0.697787       0.714908       0.644721       0.678062   \n",
       "11       1.323934       1.335968       1.361479       1.294901       1.296945   \n",
       "12    1870.582833    1836.410409    1817.046934    1790.317271    1786.037636   \n",
       "13   15541.186001   12949.365763   13409.250138   12999.199535   12909.609447   \n",
       "14   58378.700577   63525.099117   63534.600119   64628.354671   64830.384051   \n",
       "15  316854.730085  309656.122199  340723.923327  327021.117348  308946.007002   \n",
       "16    1827.422186    2101.947333    1697.079499    1341.534980    1955.068918   \n",
       "17   19196.284507   15552.665566   14975.660041   12651.500445   12629.605160   \n",
       "18   56075.856586   60833.953185   51900.886502   58216.164596   68047.779286   \n",
       "19  191443.035920  182561.153150  178786.632646  172951.776610  169477.561887   \n",
       "20       2.645173       2.455872       2.484236       2.518668       2.561544   \n",
       "21       1.262199       1.317171       1.239929       1.124617       1.015248   \n",
       "22       1.361029       1.451563       1.370376       1.402697       1.757090   \n",
       "23       1.450689       2.411394      17.509203       2.134949       2.081169   \n",
       "24     161.335567     277.158503     160.137250     159.700397     208.479968   \n",
       "25    1125.864786    1238.664347    1224.650708    1227.809955    1697.376005   \n",
       "26    6285.086732    5628.076695    5594.552843    5395.659893    5472.317212   \n",
       "27   32229.410293   47233.835518   47310.905086   45082.014207   48186.640291   \n",
       "28       0.341790       0.288711       0.266885       0.296726       0.252398   \n",
       "29       0.500711       0.439523       0.482045       0.463013       0.482884   \n",
       "30       1.046775       0.975051       1.017225       0.970868       1.044143   \n",
       "31       1.934936       1.939034       1.993901       1.969743       1.952931   \n",
       "32     350.269906     353.329910     349.121492     348.866894     357.147496   \n",
       "33    2194.807395    2287.644571    2278.354931    2321.201306    2249.281505   \n",
       "34    7953.875652    7650.874904    7828.506013    7631.317190    8332.765812   \n",
       "35   45329.465862   44714.429161   41923.113543   37306.083053   41932.260039   \n",
       "36      17.006841      32.746653      18.759789      21.092887      16.907966   \n",
       "37      61.442842     145.860659     177.019867      27.644409     112.172875   \n",
       "38     524.534894    1131.751500     184.513632      52.151583     651.409827   \n",
       "39    4356.873628    6270.133745    2730.650066    1335.104067    2273.654913   \n",
       "40     131.456803      89.350068     131.076622     131.153940     131.244422   \n",
       "41     840.504578     840.266195     841.187207     842.474292     841.649299   \n",
       "42    2843.448585    2677.475985    2646.239427    3357.265502    2892.510230   \n",
       "43   26552.221987   18754.453047   18966.682375   19966.958698   18707.986529   \n",
       "44     186.525664     186.966206     178.568878     179.746647     183.005233   \n",
       "45    1232.961704    1070.885808    1196.273893    1222.620978    1223.784598   \n",
       "46    6633.332262    6722.528415    6728.309014    6603.994202    6879.261150   \n",
       "47   47058.006640   46564.499280   48007.310952   46180.499340   51747.505172   \n",
       "48     129.385431     129.372475     129.330929     130.218048     129.795484   \n",
       "49     819.912229     847.498567     870.711515     824.278347     820.083299   \n",
       "50    3976.074232    3977.723274    3943.757923    3946.305520    3781.101240   \n",
       "51   26761.980754   23022.251393   23650.610050   22916.220783   24673.836545   \n",
       "52     143.200417     145.375992     147.959045     158.702720     149.988432   \n",
       "53     901.105561     902.809849     902.952871     899.662389     900.372541   \n",
       "54    4032.127410    3988.006183    4164.588436    4179.301637    4135.064710   \n",
       "55   30729.280142   28635.481333   29403.771399   26635.787368   26047.915222   \n",
       "56     154.868934     155.178174     151.974177     154.281829     153.692023   \n",
       "57    1002.008700     966.480787     956.113187     959.075525     978.195904   \n",
       "58    4419.971710    4426.880714    4122.692600    4381.239176    4122.196497   \n",
       "59   27116.976686   25477.950296   27360.491694   28829.542922   26479.193239   \n",
       "\n",
       "            Test7          Test8          Test9    AverageTime  \n",
       "0        1.654642       1.675758       0.395732       1.588819  \n",
       "1        0.340629       0.346424       0.286490       0.328722  \n",
       "2        0.480185       0.509878       0.512997       0.661962  \n",
       "3        0.922943       1.047562       0.937066       0.938046  \n",
       "4     1640.827512    1584.911188    1805.414216    1638.792847  \n",
       "5    16510.642676   15338.869148   17002.808605   15269.425375  \n",
       "6    67761.572618   66051.570752   63835.811092   68705.779151  \n",
       "7   374069.504284  344426.077008  371334.521629  351440.549447  \n",
       "8        0.138850       0.139291       0.142248       0.138879  \n",
       "9        0.341304       0.345099       0.384553       0.337691  \n",
       "10       0.685012       0.711267       0.681670       0.683112  \n",
       "11       1.297528       1.275745       1.292734       1.313378  \n",
       "12    1880.798645    1957.735233    1833.023001    1851.366607  \n",
       "13   13674.751174   13589.919443   12957.101800   13377.235685  \n",
       "14   64853.070004   65780.791196   64784.540210   64526.445090  \n",
       "15  283306.478006  278355.569417  312542.647546  312026.987200  \n",
       "16    2145.132378    1523.861371    1435.242861    1812.136144  \n",
       "17   23264.544694   16877.712497   18913.672163   16377.317646  \n",
       "18   56231.122980   49088.158513   47287.346119   55673.259315  \n",
       "19  170423.353572  172121.351865  166182.704957  183820.828423  \n",
       "20       2.480997       0.557117       0.512427       2.086076  \n",
       "21       1.012408       1.278407       1.275438       1.201666  \n",
       "22       1.819836       1.748641       1.384100       1.628379  \n",
       "23       1.980030       2.089747       2.290532       3.808643  \n",
       "24     158.980267     167.194650     174.212434     194.324981  \n",
       "25    1799.357571    1258.154792    1111.602672    1321.807173  \n",
       "26    5744.110293    7339.988492    6100.001824    6137.922257  \n",
       "27   49297.826765   49157.385355   48019.182512   46007.725916  \n",
       "28       0.278638       0.279112       0.275435       0.280162  \n",
       "29       0.481427       0.510985       0.536973       0.482702  \n",
       "30       0.979950       0.971647       0.976672       0.995864  \n",
       "31       1.950049       1.910166       1.917250       1.942107  \n",
       "32     363.834479     364.316429     372.629471     358.254001  \n",
       "33    2205.917195    2188.393909    2190.719562    2237.005204  \n",
       "34    8630.791503    8853.750940    9004.585695    8293.548517  \n",
       "35   44867.508380   43442.212537   44921.422549   43497.021433  \n",
       "36      36.300839      33.868658      11.339261      21.351579  \n",
       "37      58.367325      27.916706     194.972133      93.804046  \n",
       "38     520.689934     603.093849      58.380382     528.033835  \n",
       "39    1106.007188    2452.015569    4321.990748    2783.414470  \n",
       "40     131.756129     131.575708     131.333285     131.335799  \n",
       "41     837.758452     758.924020     759.291172     822.699091  \n",
       "42    2785.746662    3289.087716    2577.941685    2913.789397  \n",
       "43   19426.331803   17489.429152   17847.406844   19758.314894  \n",
       "44     184.752258     175.191271     171.197822     192.357323  \n",
       "45    1214.701385    1244.420786    1227.454843    1212.742485  \n",
       "46    6663.622299    6217.895664    6055.694895    6597.829012  \n",
       "47   60016.320982   49022.602163   46485.920513   49076.536519  \n",
       "48     129.292666     130.508839     129.384941     129.771920  \n",
       "49     818.703509     841.110608     822.148718     831.490984  \n",
       "50    3908.446959    3576.500635    3734.849647    3835.614493  \n",
       "51   24356.662716   25746.160404   25120.036311   24509.724952  \n",
       "52     144.189928     143.096258     143.280787     146.600052  \n",
       "53     904.947112     903.838818     901.402846     901.945623  \n",
       "54    4228.924657    4006.414764    4231.719567    4110.871804  \n",
       "55   25208.378627   26538.443817   29803.705468   27327.274859  \n",
       "56     154.568771     155.058160     152.523529     154.259074  \n",
       "57     978.264564     980.201183     961.504599     972.501360  \n",
       "58    4315.357717    4461.265770    4338.080916    4301.455759  \n",
       "59   22953.966730   27997.937959   25953.701965   27081.613380  "
      ]
     },
     "execution_count": 5,
     "metadata": {},
     "output_type": "execute_result"
    }
   ],
   "source": [
    "tests"
   ]
  },
  {
   "cell_type": "markdown",
   "id": "ee2621a7",
   "metadata": {},
   "source": [
    "### Classification Models\n",
    "**Terminology**\n",
    "- The *dependent variable* is the variable being predicted or classified.\n",
    "- The *features* (or the *independent variables*) are the known variables used to predict or classify the dependent variable.\n",
    "- The *confusion matrix* is an evaluation metric used to determine accuracy, sensitivity, and specificity of the model.\n",
    "\n",
    "**Dependent Variable**\n",
    "- The variable being classified for this project is the `SortType` column. Specifically, bubble sort and selection sort.\n",
    "- The dependent variable will be represented by the variable `y`.\n",
    "\n",
    "**Independent Variables**\n",
    "- Other than the `SortType` column, all the remaining columns may be used as features. \n",
    "- It may be neccesary to convert qualitative data, such as the `ArrayType` columns into dummy variable before they can used as features.\n",
    "- The independent variables will be presented by variable `x`.\n",
    "\n",
    "**Algorithms**\n",
    "- The classification algorithms covered in class are:\n",
    "    - Decision Tree\n",
    "    - Random Forest Classifiers\n",
    "    - k-Nearest Neighbors for Classification"
   ]
  },
  {
   "cell_type": "markdown",
   "id": "039feeec",
   "metadata": {},
   "source": [
    "-------------------------------------------------------------------------"
   ]
  },
  {
   "cell_type": "markdown",
   "id": "f7eef8bd",
   "metadata": {},
   "source": [
    "### Preparations"
   ]
  },
  {
   "cell_type": "markdown",
   "id": "d556b1a9",
   "metadata": {},
   "source": [
    "#### Drop\n",
    "Since the test time columns make up most of the data, the models will mostly use the test times to classify the data, hence  drop all the test times columns."
   ]
  },
  {
   "cell_type": "code",
   "execution_count": 6,
   "id": "ff89e4a9",
   "metadata": {},
   "outputs": [
    {
     "name": "stdout",
     "output_type": "stream",
     "text": [
      "SortType, ArrayType, ArraySize, Test1, Test2, Test3, Test4, Test5, Test6, Test7, Test8, Test9, AverageTime\n"
     ]
    }
   ],
   "source": [
    "print(*tests.columns, sep = \", \")"
   ]
  },
  {
   "cell_type": "code",
   "execution_count": 7,
   "id": "9829ff04",
   "metadata": {},
   "outputs": [
    {
     "data": {
      "text/html": [
       "<div>\n",
       "<style scoped>\n",
       "    .dataframe tbody tr th:only-of-type {\n",
       "        vertical-align: middle;\n",
       "    }\n",
       "\n",
       "    .dataframe tbody tr th {\n",
       "        vertical-align: top;\n",
       "    }\n",
       "\n",
       "    .dataframe thead th {\n",
       "        text-align: right;\n",
       "    }\n",
       "</style>\n",
       "<table border=\"1\" class=\"dataframe\">\n",
       "  <thead>\n",
       "    <tr style=\"text-align: right;\">\n",
       "      <th></th>\n",
       "      <th>SortType</th>\n",
       "      <th>ArrayType</th>\n",
       "      <th>ArraySize</th>\n",
       "      <th>Test1</th>\n",
       "      <th>Test7</th>\n",
       "      <th>AverageTime</th>\n",
       "    </tr>\n",
       "  </thead>\n",
       "  <tbody>\n",
       "  </tbody>\n",
       "</table>\n",
       "</div>"
      ],
      "text/plain": [
       "Empty DataFrame\n",
       "Columns: [SortType, ArrayType, ArraySize, Test1, Test7, AverageTime]\n",
       "Index: []"
      ]
     },
     "execution_count": 7,
     "metadata": {},
     "output_type": "execute_result"
    }
   ],
   "source": [
    "tests = tests.drop(columns = [\"Test2\", \"Test3\", \"Test4\", \"Test5\", \"Test6\", \"Test8\", \"Test9\"])\n",
    "tests[:0]"
   ]
  },
  {
   "cell_type": "markdown",
   "id": "55e957a5",
   "metadata": {},
   "source": [
    "##### Dummy Variables\n",
    "Convert qualitative columns into numerical columns."
   ]
  },
  {
   "cell_type": "code",
   "execution_count": 8,
   "id": "f2ec1d86",
   "metadata": {},
   "outputs": [],
   "source": [
    "tests = pd.get_dummies(tests, columns = [\"ArrayType\"], drop_first = True)"
   ]
  },
  {
   "cell_type": "markdown",
   "id": "ffad048e",
   "metadata": {},
   "source": [
    "Display the DataFrame and make sure the dummy variables are correct. The `drop_first = True` parameter drops the first dummy variable. The dropped column is implied because if all the dummy variables for a row are zeros, then it could only be the dropped column."
   ]
  },
  {
   "cell_type": "code",
   "execution_count": 9,
   "id": "7562db88",
   "metadata": {},
   "outputs": [
    {
     "data": {
      "text/html": [
       "<div>\n",
       "<style scoped>\n",
       "    .dataframe tbody tr th:only-of-type {\n",
       "        vertical-align: middle;\n",
       "    }\n",
       "\n",
       "    .dataframe tbody tr th {\n",
       "        vertical-align: top;\n",
       "    }\n",
       "\n",
       "    .dataframe thead th {\n",
       "        text-align: right;\n",
       "    }\n",
       "</style>\n",
       "<table border=\"1\" class=\"dataframe\">\n",
       "  <thead>\n",
       "    <tr style=\"text-align: right;\">\n",
       "      <th></th>\n",
       "      <th>SortType</th>\n",
       "      <th>ArraySize</th>\n",
       "      <th>Test1</th>\n",
       "      <th>Test7</th>\n",
       "      <th>AverageTime</th>\n",
       "      <th>ArrayType_Equal</th>\n",
       "      <th>ArrayType_Increasing</th>\n",
       "      <th>ArrayType_IncreasingAndRandom</th>\n",
       "      <th>ArrayType_Random</th>\n",
       "    </tr>\n",
       "  </thead>\n",
       "  <tbody>\n",
       "  </tbody>\n",
       "</table>\n",
       "</div>"
      ],
      "text/plain": [
       "Empty DataFrame\n",
       "Columns: [SortType, ArraySize, Test1, Test7, AverageTime, ArrayType_Equal, ArrayType_Increasing, ArrayType_IncreasingAndRandom, ArrayType_Random]\n",
       "Index: []"
      ]
     },
     "execution_count": 9,
     "metadata": {},
     "output_type": "execute_result"
    }
   ],
   "source": [
    "tests[:0]"
   ]
  },
  {
   "cell_type": "markdown",
   "id": "4701d065",
   "metadata": {},
   "source": [
    "#### Filter\n",
    "Since bubble and insertion sort performed similarly in the [analysis](https://sites.google.com/view/irisfield-sorting-algorithms), group them together.\n",
    "- Group 0: Bubble and Insertion Sort\n",
    "- Group 1: Selection Sort"
   ]
  },
  {
   "cell_type": "code",
   "execution_count": 10,
   "id": "30cf8058",
   "metadata": {},
   "outputs": [],
   "source": [
    "cluster_map = {\"BubbleSort\": 0, \"InsertionSort\": 0, \"SelectionSort\": 1}\n",
    "tests[\"SortType\"] = tests[\"SortType\"].apply(str).map(cluster_map)"
   ]
  },
  {
   "cell_type": "code",
   "execution_count": 11,
   "id": "7e575112",
   "metadata": {},
   "outputs": [
    {
     "data": {
      "text/plain": [
       "SortType    int64\n",
       "dtype: object"
      ]
     },
     "execution_count": 11,
     "metadata": {},
     "output_type": "execute_result"
    }
   ],
   "source": [
    "tests.dtypes[:1]"
   ]
  },
  {
   "cell_type": "code",
   "execution_count": 12,
   "id": "c2eebf56",
   "metadata": {},
   "outputs": [
    {
     "data": {
      "text/html": [
       "<div>\n",
       "<style scoped>\n",
       "    .dataframe tbody tr th:only-of-type {\n",
       "        vertical-align: middle;\n",
       "    }\n",
       "\n",
       "    .dataframe tbody tr th {\n",
       "        vertical-align: top;\n",
       "    }\n",
       "\n",
       "    .dataframe thead th {\n",
       "        text-align: right;\n",
       "    }\n",
       "</style>\n",
       "<table border=\"1\" class=\"dataframe\">\n",
       "  <thead>\n",
       "    <tr style=\"text-align: right;\">\n",
       "      <th></th>\n",
       "      <th>SortType</th>\n",
       "      <th>ArraySize</th>\n",
       "      <th>Test1</th>\n",
       "      <th>Test7</th>\n",
       "      <th>AverageTime</th>\n",
       "      <th>ArrayType_Equal</th>\n",
       "      <th>ArrayType_Increasing</th>\n",
       "      <th>ArrayType_IncreasingAndRandom</th>\n",
       "      <th>ArrayType_Random</th>\n",
       "    </tr>\n",
       "  </thead>\n",
       "  <tbody>\n",
       "    <tr>\n",
       "      <th>38</th>\n",
       "      <td>0</td>\n",
       "      <td>50000</td>\n",
       "      <td>1025.778919</td>\n",
       "      <td>520.689934</td>\n",
       "      <td>528.033835</td>\n",
       "      <td>0</td>\n",
       "      <td>0</td>\n",
       "      <td>1</td>\n",
       "      <td>0</td>\n",
       "    </tr>\n",
       "    <tr>\n",
       "      <th>39</th>\n",
       "      <td>0</td>\n",
       "      <td>100000</td>\n",
       "      <td>204.300309</td>\n",
       "      <td>1106.007188</td>\n",
       "      <td>2783.414470</td>\n",
       "      <td>0</td>\n",
       "      <td>0</td>\n",
       "      <td>1</td>\n",
       "      <td>0</td>\n",
       "    </tr>\n",
       "    <tr>\n",
       "      <th>40</th>\n",
       "      <td>1</td>\n",
       "      <td>10000</td>\n",
       "      <td>173.075217</td>\n",
       "      <td>131.756129</td>\n",
       "      <td>131.335799</td>\n",
       "      <td>1</td>\n",
       "      <td>0</td>\n",
       "      <td>0</td>\n",
       "      <td>0</td>\n",
       "    </tr>\n",
       "    <tr>\n",
       "      <th>41</th>\n",
       "      <td>1</td>\n",
       "      <td>25000</td>\n",
       "      <td>842.236610</td>\n",
       "      <td>837.758452</td>\n",
       "      <td>822.699091</td>\n",
       "      <td>1</td>\n",
       "      <td>0</td>\n",
       "      <td>0</td>\n",
       "      <td>0</td>\n",
       "    </tr>\n",
       "  </tbody>\n",
       "</table>\n",
       "</div>"
      ],
      "text/plain": [
       "    SortType  ArraySize        Test1        Test7  AverageTime  \\\n",
       "38         0      50000  1025.778919   520.689934   528.033835   \n",
       "39         0     100000   204.300309  1106.007188  2783.414470   \n",
       "40         1      10000   173.075217   131.756129   131.335799   \n",
       "41         1      25000   842.236610   837.758452   822.699091   \n",
       "\n",
       "    ArrayType_Equal  ArrayType_Increasing  ArrayType_IncreasingAndRandom  \\\n",
       "38                0                     0                              1   \n",
       "39                0                     0                              1   \n",
       "40                1                     0                              0   \n",
       "41                1                     0                              0   \n",
       "\n",
       "    ArrayType_Random  \n",
       "38                 0  \n",
       "39                 0  \n",
       "40                 0  \n",
       "41                 0  "
      ]
     },
     "execution_count": 12,
     "metadata": {},
     "output_type": "execute_result"
    }
   ],
   "source": [
    "tests[38:42]"
   ]
  },
  {
   "cell_type": "markdown",
   "id": "ac749a32",
   "metadata": {},
   "source": [
    "#### Data\n",
    "- Store the independent variables or features as a data frame inside the variable `x`.\n",
    "- Store the dependent variable as a series inside the variable `y`."
   ]
  },
  {
   "cell_type": "code",
   "execution_count": 13,
   "id": "b3c4a653",
   "metadata": {},
   "outputs": [],
   "source": [
    "x = tests.drop(columns = [\"SortType\"])\n",
    "y = tests[\"SortType\"]"
   ]
  },
  {
   "cell_type": "markdown",
   "id": "975498f9",
   "metadata": {},
   "source": [
    "Make sure the data frame `x` does not contain the `SortType` column and that series `y` only contains the `SortType` column."
   ]
  },
  {
   "cell_type": "code",
   "execution_count": 14,
   "id": "0b792dae",
   "metadata": {
    "scrolled": true
   },
   "outputs": [
    {
     "data": {
      "text/html": [
       "<div>\n",
       "<style scoped>\n",
       "    .dataframe tbody tr th:only-of-type {\n",
       "        vertical-align: middle;\n",
       "    }\n",
       "\n",
       "    .dataframe tbody tr th {\n",
       "        vertical-align: top;\n",
       "    }\n",
       "\n",
       "    .dataframe thead th {\n",
       "        text-align: right;\n",
       "    }\n",
       "</style>\n",
       "<table border=\"1\" class=\"dataframe\">\n",
       "  <thead>\n",
       "    <tr style=\"text-align: right;\">\n",
       "      <th></th>\n",
       "      <th>ArraySize</th>\n",
       "      <th>Test1</th>\n",
       "      <th>Test7</th>\n",
       "      <th>AverageTime</th>\n",
       "      <th>ArrayType_Equal</th>\n",
       "      <th>ArrayType_Increasing</th>\n",
       "      <th>ArrayType_IncreasingAndRandom</th>\n",
       "      <th>ArrayType_Random</th>\n",
       "    </tr>\n",
       "  </thead>\n",
       "  <tbody>\n",
       "    <tr>\n",
       "      <th>38</th>\n",
       "      <td>50000</td>\n",
       "      <td>1025.778919</td>\n",
       "      <td>520.689934</td>\n",
       "      <td>528.033835</td>\n",
       "      <td>0</td>\n",
       "      <td>0</td>\n",
       "      <td>1</td>\n",
       "      <td>0</td>\n",
       "    </tr>\n",
       "    <tr>\n",
       "      <th>39</th>\n",
       "      <td>100000</td>\n",
       "      <td>204.300309</td>\n",
       "      <td>1106.007188</td>\n",
       "      <td>2783.414470</td>\n",
       "      <td>0</td>\n",
       "      <td>0</td>\n",
       "      <td>1</td>\n",
       "      <td>0</td>\n",
       "    </tr>\n",
       "    <tr>\n",
       "      <th>40</th>\n",
       "      <td>10000</td>\n",
       "      <td>173.075217</td>\n",
       "      <td>131.756129</td>\n",
       "      <td>131.335799</td>\n",
       "      <td>1</td>\n",
       "      <td>0</td>\n",
       "      <td>0</td>\n",
       "      <td>0</td>\n",
       "    </tr>\n",
       "    <tr>\n",
       "      <th>41</th>\n",
       "      <td>25000</td>\n",
       "      <td>842.236610</td>\n",
       "      <td>837.758452</td>\n",
       "      <td>822.699091</td>\n",
       "      <td>1</td>\n",
       "      <td>0</td>\n",
       "      <td>0</td>\n",
       "      <td>0</td>\n",
       "    </tr>\n",
       "  </tbody>\n",
       "</table>\n",
       "</div>"
      ],
      "text/plain": [
       "    ArraySize        Test1        Test7  AverageTime  ArrayType_Equal  \\\n",
       "38      50000  1025.778919   520.689934   528.033835                0   \n",
       "39     100000   204.300309  1106.007188  2783.414470                0   \n",
       "40      10000   173.075217   131.756129   131.335799                1   \n",
       "41      25000   842.236610   837.758452   822.699091                1   \n",
       "\n",
       "    ArrayType_Increasing  ArrayType_IncreasingAndRandom  ArrayType_Random  \n",
       "38                     0                              1                 0  \n",
       "39                     0                              1                 0  \n",
       "40                     0                              0                 0  \n",
       "41                     0                              0                 0  "
      ]
     },
     "execution_count": 14,
     "metadata": {},
     "output_type": "execute_result"
    }
   ],
   "source": [
    "x[38:42]"
   ]
  },
  {
   "cell_type": "code",
   "execution_count": 15,
   "id": "c958cc46",
   "metadata": {},
   "outputs": [
    {
     "data": {
      "text/plain": [
       "38    0\n",
       "39    0\n",
       "40    1\n",
       "41    1\n",
       "Name: SortType, dtype: int64"
      ]
     },
     "execution_count": 15,
     "metadata": {},
     "output_type": "execute_result"
    }
   ],
   "source": [
    "y[38:42]"
   ]
  },
  {
   "cell_type": "markdown",
   "id": "695cc083",
   "metadata": {},
   "source": [
    "#### Data Split\n",
    "Split the data into training and testing datasets. As per convention, split into 70% training and 30% testing."
   ]
  },
  {
   "cell_type": "code",
   "execution_count": 16,
   "id": "de403c30",
   "metadata": {},
   "outputs": [],
   "source": [
    "x_train, x_test, y_train, y_test = train_test_split(x, y, test_size = 0.3, random_state = 7)"
   ]
  },
  {
   "cell_type": "markdown",
   "id": "a2ccfa9e",
   "metadata": {},
   "source": [
    "Make sure the data was split correctly.\n",
    "- `x_train` and `y_train` should have the same indexes.\n",
    "- `x_test` and `y_test` should have the same indexes."
   ]
  },
  {
   "cell_type": "code",
   "execution_count": 17,
   "id": "c97164d8",
   "metadata": {},
   "outputs": [
    {
     "name": "stdout",
     "output_type": "stream",
     "text": [
      "True\n",
      "True\n"
     ]
    }
   ],
   "source": [
    "# returns true if if all the indices match 1:1\n",
    "print(x_train.index.to_list() == y_train.index.to_list())\n",
    "print(x_test.index.to_list() == y_test.index.to_list())"
   ]
  },
  {
   "cell_type": "markdown",
   "id": "cb95ef52",
   "metadata": {},
   "source": [
    "-------------------------------------------------------------------------"
   ]
  },
  {
   "cell_type": "markdown",
   "id": "26335396",
   "metadata": {},
   "source": [
    "### Definition\n",
    "This function definition facilitates comparing two mean squared errors by computing their percent difference."
   ]
  },
  {
   "cell_type": "code",
   "execution_count": 18,
   "id": "d5b8ed4c",
   "metadata": {},
   "outputs": [],
   "source": [
    "def show_matrix(cmatrix):\n",
    "    ax = plt.gca()\n",
    "    # Use Pastel2_r for pastel color soutside of diagonal line.\n",
    "    ax.imshow(cmatrix, cmap = \"Pastel2\") # https://www.pythonpool.com/matplotlib-cmap/\n",
    "    ax.xaxis.set(ticks = range(2), ticklabels = (\"0\", \"1\"))\n",
    "    ax.yaxis.set(ticks = range(2), ticklabels = (\"0\", \"1\"))\n",
    "    for i in range(2):\n",
    "        for j in range(2):\n",
    "            ax.text(j, i, cmatrix[i, j], ha = \"center\", va = \"center\", color = \"black\")\n",
    "    plt.xlabel(\"Predictions\")\n",
    "    plt.ylabel(\"Observations\")"
   ]
  },
  {
   "cell_type": "code",
   "execution_count": 19,
   "id": "79c55d6f",
   "metadata": {},
   "outputs": [],
   "source": [
    "def evaluation_metrics(confusion_matrix):\n",
    "    true_neg = confusion_matrix[0][0]\n",
    "    true_pos = confusion_matrix[1][1]\n",
    "    false_neg = confusion_matrix[1][0]\n",
    "    false_pos= confusion_matrix[0][1]\n",
    "    accuracy = (true_neg + true_pos) / (true_neg + true_pos + false_neg + false_pos)\n",
    "    precision = true_pos / (true_pos + false_pos)\n",
    "    sensitivity = true_pos / (true_pos + false_neg)\n",
    "    specificity = true_neg / (true_neg + false_pos)\n",
    "    print(\"   Accuracy = {:0.2f}%\".format(accuracy * 100))\n",
    "    print(\"  Precision = {:0.2f}%\".format(precision * 100))\n",
    "    print(\"Sensitivity = {:.2f}%\".format(sensitivity * 100))\n",
    "    print(\"Specificity = {:.2f}%\".format(specificity * 100))"
   ]
  },
  {
   "cell_type": "markdown",
   "id": "5f52a9f7",
   "metadata": {},
   "source": [
    "### Metric\n",
    "The confusion matrices are evaluated by comparing the accuracy, precision, sensitivity, and specificity for each model.\n",
    "- Accuracy refers to the frequency of correct predictions. The ratio of the true cases to all the cases.\n",
    "- Precision refers to the frequency of positive events that turned out to be true (positive).\n",
    "- Sensitivity refers to the ratio of correct positive events to total positive events.\n",
    "- Specificity refers to the ratio of correct negative events to total negative events.\n",
    "\n",
    "For our data, this means the following: \n",
    "- If the *observations* and *predictions* are both zero, the model correctly classified a bubble sort as a bubble sort (or true negative).\n",
    "- If the *observations* is zero and the *predictions* is one, the model incorrectly classified a bubble sort as a selection sort (or false positive).\n",
    "- If the *observations* is one and the *predictions* is zero, the model incorrectly classified a selection sort as a bubble sort (or false negative).\n",
    "- If the *observations* and *predictions* are both one, the model correctly classified a selection sort as a selection sort (or true positive)."
   ]
  },
  {
   "cell_type": "markdown",
   "id": "c9f5ec36",
   "metadata": {},
   "source": [
    "-------------------------------------------------------------------------"
   ]
  },
  {
   "cell_type": "markdown",
   "id": "6e87e72d",
   "metadata": {},
   "source": [
    "### Decision Tree"
   ]
  },
  {
   "cell_type": "markdown",
   "id": "8d5e32d4",
   "metadata": {},
   "source": [
    "#### Parameter Search\n",
    "Use a for-loop to search for the best `max_depth` for the tree using based on the confusion matrix and evaluation metrics."
   ]
  },
  {
   "cell_type": "code",
   "execution_count": 20,
   "id": "4bfd38a3",
   "metadata": {
    "scrolled": true
   },
   "outputs": [
    {
     "data": {
      "image/png": "[encoded data removed]",
      "text/plain": [
       "<Figure size 720x480 with 1 Axes>"
      ]
     },
     "metadata": {
      "needs_background": "light"
     },
     "output_type": "display_data"
    },
    {
     "name": "stdout",
     "output_type": "stream",
     "text": [
      "   Accuracy = 55.56%\n",
      "  Precision = 27.27%\n",
      "Sensitivity = 100.00%\n",
      "Specificity = 46.67%\n"
     ]
    },
    {
     "data": {
      "image/png": "[encoded data removed]",
      "text/plain": [
       "<Figure size 720x480 with 1 Axes>"
      ]
     },
     "metadata": {
      "needs_background": "light"
     },
     "output_type": "display_data"
    },
    {
     "name": "stdout",
     "output_type": "stream",
     "text": [
      "   Accuracy = 72.22%\n",
      "  Precision = 37.50%\n",
      "Sensitivity = 100.00%\n",
      "Specificity = 66.67%\n"
     ]
    },
    {
     "data": {
      "image/png": "[encoded data removed]",
      "text/plain": [
       "<Figure size 720x480 with 1 Axes>"
      ]
     },
     "metadata": {
      "needs_background": "light"
     },
     "output_type": "display_data"
    },
    {
     "name": "stdout",
     "output_type": "stream",
     "text": [
      "   Accuracy = 61.11%\n",
      "  Precision = 16.67%\n",
      "Sensitivity = 33.33%\n",
      "Specificity = 66.67%\n"
     ]
    },
    {
     "data": {
      "image/png": "[encoded data removed]",
      "text/plain": [
       "<Figure size 720x480 with 1 Axes>"
      ]
     },
     "metadata": {
      "needs_background": "light"
     },
     "output_type": "display_data"
    },
    {
     "name": "stdout",
     "output_type": "stream",
     "text": [
      "   Accuracy = 61.11%\n",
      "  Precision = 0.00%\n",
      "Sensitivity = 0.00%\n",
      "Specificity = 73.33%\n"
     ]
    },
    {
     "data": {
      "image/png": "[encoded data removed]",
      "text/plain": [
       "<Figure size 720x480 with 1 Axes>"
      ]
     },
     "metadata": {
      "needs_background": "light"
     },
     "output_type": "display_data"
    },
    {
     "name": "stdout",
     "output_type": "stream",
     "text": [
      "   Accuracy = 61.11%\n",
      "  Precision = 0.00%\n",
      "Sensitivity = 0.00%\n",
      "Specificity = 73.33%\n"
     ]
    },
    {
     "data": {
      "image/png": "[encoded data removed]",
      "text/plain": [
       "<Figure size 720x480 with 1 Axes>"
      ]
     },
     "metadata": {
      "needs_background": "light"
     },
     "output_type": "display_data"
    },
    {
     "name": "stdout",
     "output_type": "stream",
     "text": [
      "   Accuracy = 72.22%\n",
      "  Precision = 0.00%\n",
      "Sensitivity = 0.00%\n",
      "Specificity = 86.67%\n"
     ]
    },
    {
     "data": {
      "image/png": "[encoded data removed]",
      "text/plain": [
       "<Figure size 720x480 with 1 Axes>"
      ]
     },
     "metadata": {
      "needs_background": "light"
     },
     "output_type": "display_data"
    },
    {
     "name": "stdout",
     "output_type": "stream",
     "text": [
      "   Accuracy = 66.67%\n",
      "  Precision = 20.00%\n",
      "Sensitivity = 33.33%\n",
      "Specificity = 73.33%\n"
     ]
    },
    {
     "data": {
      "image/png": "[encoded data removed]",
      "text/plain": [
       "<Figure size 720x480 with 1 Axes>"
      ]
     },
     "metadata": {
      "needs_background": "light"
     },
     "output_type": "display_data"
    },
    {
     "name": "stdout",
     "output_type": "stream",
     "text": [
      "   Accuracy = 66.67%\n",
      "  Precision = 20.00%\n",
      "Sensitivity = 33.33%\n",
      "Specificity = 73.33%\n"
     ]
    },
    {
     "data": {
      "image/png": "[encoded data removed]",
      "text/plain": [
       "<Figure size 720x480 with 1 Axes>"
      ]
     },
     "metadata": {
      "needs_background": "light"
     },
     "output_type": "display_data"
    },
    {
     "name": "stdout",
     "output_type": "stream",
     "text": [
      "   Accuracy = 66.67%\n",
      "  Precision = 20.00%\n",
      "Sensitivity = 33.33%\n",
      "Specificity = 73.33%\n"
     ]
    }
   ],
   "source": [
    "for d in range (1, 10):\n",
    "    dtree = DecisionTreeClassifier(max_depth = d).fit(x_train, y_train)\n",
    "    y_test_preds = dtree.predict(x_test)\n",
    "    cmatrix_dtree = confusion_matrix(y_test, y_test_preds)\n",
    "    show_matrix(cmatrix_dtree)\n",
    "    plt.title(\"max_depth = {}\".format(d))\n",
    "    plt.show()\n",
    "    evaluation_metrics(cmatrix_dtree)"
   ]
  },
  {
   "cell_type": "markdown",
   "id": "0563b42f",
   "metadata": {},
   "source": [
    "### Best Depth\n",
    "Based on the search results, use the best `max_depth` to create a tree model."
   ]
  },
  {
   "cell_type": "code",
   "execution_count": 21,
   "id": "90f54645",
   "metadata": {},
   "outputs": [],
   "source": [
    "dtree_best = DecisionTreeClassifier(max_depth = 6).fit(x_train, y_train)\n",
    "y_test_preds_best = dtree_best.predict(x_test)\n",
    "cmatrix_dtree_best = confusion_matrix(y_test, y_test_preds_best)"
   ]
  },
  {
   "cell_type": "code",
   "execution_count": 22,
   "id": "ec890ddc",
   "metadata": {},
   "outputs": [
    {
     "name": "stdout",
     "output_type": "stream",
     "text": [
      "   Accuracy = 61.11%\n",
      "  Precision = 16.67%\n",
      "Sensitivity = 33.33%\n",
      "Specificity = 66.67%\n"
     ]
    }
   ],
   "source": [
    "evaluation_metrics(cmatrix_dtree_best)"
   ]
  },
  {
   "cell_type": "code",
   "execution_count": 23,
   "id": "ab629f0d",
   "metadata": {},
   "outputs": [
    {
     "data": {
      "text/plain": [
       "18"
      ]
     },
     "execution_count": 23,
     "metadata": {},
     "output_type": "execute_result"
    }
   ],
   "source": [
    "len(x_test)"
   ]
  },
  {
   "cell_type": "markdown",
   "id": "d26cec44",
   "metadata": {},
   "source": [
    "### Decision Tree Plot\n",
    "Plot the decision tree."
   ]
  },
  {
   "cell_type": "code",
   "execution_count": 24,
   "id": "a5b6fed2",
   "metadata": {
    "scrolled": false
   },
   "outputs": [
    {
     "data": {
      "image/png": "[encoded data removed]",
      "text/plain": [
       "<Figure size 1500x1500 with 1 Axes>"
      ]
     },
     "metadata": {
      "needs_background": "light"
     },
     "output_type": "display_data"
    }
   ],
   "source": [
    "fig, axes = plt.subplots(nrows = 1, ncols = 1, figsize = (5, 5), dpi = 300)\n",
    "plot_tree(dtree, feature_names = x.columns)\n",
    "plt.show()"
   ]
  },
  {
   "cell_type": "markdown",
   "id": "7509a9d4",
   "metadata": {},
   "source": [
    "-------------------------------------------------------------"
   ]
  },
  {
   "cell_type": "markdown",
   "id": "2dbc0b22",
   "metadata": {},
   "source": [
    "### k-Nearest Neighbors for Classification"
   ]
  },
  {
   "cell_type": "code",
   "execution_count": 25,
   "id": "404be01b",
   "metadata": {
    "scrolled": true
   },
   "outputs": [
    {
     "data": {
      "image/png": "[encoded data removed]",
      "text/plain": [
       "<Figure size 720x480 with 1 Axes>"
      ]
     },
     "metadata": {
      "needs_background": "light"
     },
     "output_type": "display_data"
    },
    {
     "name": "stdout",
     "output_type": "stream",
     "text": [
      "   Accuracy = 88.89%\n",
      "  Precision = 66.67%\n",
      "Sensitivity = 66.67%\n",
      "Specificity = 93.33%\n"
     ]
    },
    {
     "data": {
      "image/png": "[encoded data removed]",
      "text/plain": [
       "<Figure size 720x480 with 1 Axes>"
      ]
     },
     "metadata": {
      "needs_background": "light"
     },
     "output_type": "display_data"
    },
    {
     "name": "stdout",
     "output_type": "stream",
     "text": [
      "   Accuracy = 94.44%\n",
      "  Precision = 100.00%\n",
      "Sensitivity = 66.67%\n",
      "Specificity = 100.00%\n"
     ]
    },
    {
     "data": {
      "image/png": "[encoded data removed]",
      "text/plain": [
       "<Figure size 720x480 with 1 Axes>"
      ]
     },
     "metadata": {
      "needs_background": "light"
     },
     "output_type": "display_data"
    },
    {
     "name": "stdout",
     "output_type": "stream",
     "text": [
      "   Accuracy = 83.33%\n",
      "  Precision = 50.00%\n",
      "Sensitivity = 100.00%\n",
      "Specificity = 80.00%\n"
     ]
    },
    {
     "data": {
      "image/png": "[encoded data removed]",
      "text/plain": [
       "<Figure size 720x480 with 1 Axes>"
      ]
     },
     "metadata": {
      "needs_background": "light"
     },
     "output_type": "display_data"
    },
    {
     "name": "stdout",
     "output_type": "stream",
     "text": [
      "   Accuracy = 83.33%\n",
      "  Precision = 50.00%\n",
      "Sensitivity = 100.00%\n",
      "Specificity = 80.00%\n"
     ]
    },
    {
     "data": {
      "image/png": "[encoded data removed]",
      "text/plain": [
       "<Figure size 720x480 with 1 Axes>"
      ]
     },
     "metadata": {
      "needs_background": "light"
     },
     "output_type": "display_data"
    },
    {
     "name": "stdout",
     "output_type": "stream",
     "text": [
      "   Accuracy = 66.67%\n",
      "  Precision = 33.33%\n",
      "Sensitivity = 100.00%\n",
      "Specificity = 60.00%\n"
     ]
    },
    {
     "data": {
      "image/png": "[encoded data removed]",
      "text/plain": [
       "<Figure size 720x480 with 1 Axes>"
      ]
     },
     "metadata": {
      "needs_background": "light"
     },
     "output_type": "display_data"
    },
    {
     "name": "stdout",
     "output_type": "stream",
     "text": [
      "   Accuracy = 66.67%\n",
      "  Precision = 33.33%\n",
      "Sensitivity = 100.00%\n",
      "Specificity = 60.00%\n"
     ]
    },
    {
     "data": {
      "image/png": "[encoded data removed]",
      "text/plain": [
       "<Figure size 720x480 with 1 Axes>"
      ]
     },
     "metadata": {
      "needs_background": "light"
     },
     "output_type": "display_data"
    },
    {
     "name": "stdout",
     "output_type": "stream",
     "text": [
      "   Accuracy = 38.89%\n",
      "  Precision = 21.43%\n",
      "Sensitivity = 100.00%\n",
      "Specificity = 26.67%\n"
     ]
    },
    {
     "data": {
      "image/png": "[encoded data removed]",
      "text/plain": [
       "<Figure size 720x480 with 1 Axes>"
      ]
     },
     "metadata": {
      "needs_background": "light"
     },
     "output_type": "display_data"
    },
    {
     "name": "stdout",
     "output_type": "stream",
     "text": [
      "   Accuracy = 77.78%\n",
      "  Precision = 0.00%\n",
      "Sensitivity = 0.00%\n",
      "Specificity = 93.33%\n"
     ]
    },
    {
     "data": {
      "image/png": "[encoded data removed]",
      "text/plain": [
       "<Figure size 720x480 with 1 Axes>"
      ]
     },
     "metadata": {
      "needs_background": "light"
     },
     "output_type": "display_data"
    },
    {
     "name": "stdout",
     "output_type": "stream",
     "text": [
      "   Accuracy = 61.11%\n",
      "  Precision = 0.00%\n",
      "Sensitivity = 0.00%\n",
      "Specificity = 73.33%\n"
     ]
    }
   ],
   "source": [
    "for k in range(1, 10):\n",
    "    knn = KNeighborsClassifier(n_neighbors = k).fit(x_train, y_train)\n",
    "    y_test_preds_knn = knn.predict(x_test)\n",
    "    cmatrix_knn = confusion_matrix(y_test, y_test_preds_knn)\n",
    "    show_matrix(cmatrix_knn)\n",
    "    plt.title(\"k = {}\".format(k))\n",
    "    plt.show()\n",
    "    evaluation_metrics(cmatrix_knn)"
   ]
  },
  {
   "cell_type": "code",
   "execution_count": 32,
   "id": "c999af92",
   "metadata": {},
   "outputs": [
    {
     "name": "stdout",
     "output_type": "stream",
     "text": [
      "   Accuracy = 94.44%\n",
      "  Precision = 100.00%\n",
      "Sensitivity = 66.67%\n",
      "Specificity = 100.00%\n"
     ]
    },
    {
     "data": {
      "image/png": "[encoded data removed]",
      "text/plain": [
       "<Figure size 720x480 with 1 Axes>"
      ]
     },
     "metadata": {
      "needs_background": "light"
     },
     "output_type": "display_data"
    }
   ],
   "source": [
    "knn = KNeighborsClassifier(n_neighbors = 2).fit(x_train, y_train)\n",
    "y_test_preds_knn = knn.predict(x_test)\n",
    "cmatrix_knn = confusion_matrix(y_test, y_test_preds_knn)\n",
    "show_matrix(cmatrix_knn)\n",
    "plt.title(\"k = \")\n",
    "evaluation_metrics(cmatrix_knn)"
   ]
  },
  {
   "cell_type": "markdown",
   "id": "839f0484",
   "metadata": {},
   "source": [
    "------------------------------------------------------------------------"
   ]
  },
  {
   "cell_type": "markdown",
   "id": "f0916932",
   "metadata": {},
   "source": [
    "### Logistic regression"
   ]
  },
  {
   "cell_type": "code",
   "execution_count": 27,
   "id": "1fe2a0f7",
   "metadata": {},
   "outputs": [],
   "source": [
    "import statsmodels.formula.api as smf"
   ]
  },
  {
   "cell_type": "code",
   "execution_count": 28,
   "id": "8d90ad5f",
   "metadata": {},
   "outputs": [
    {
     "name": "stdout",
     "output_type": "stream",
     "text": [
      "ArraySize + Test1 + Test7 + AverageTime + ArrayType_Equal + ArrayType_Increasing + ArrayType_IncreasingAndRandom + ArrayType_Random\n"
     ]
    }
   ],
   "source": [
    "print(*x.columns, sep = \" + \")\n",
    "all_features = \" + \".join(map(str, x.columns))"
   ]
  },
  {
   "cell_type": "code",
   "execution_count": 29,
   "id": "257e1926",
   "metadata": {},
   "outputs": [
    {
     "name": "stdout",
     "output_type": "stream",
     "text": [
      "Optimization terminated successfully.\n",
      "         Current function value: 0.607245\n",
      "         Iterations 8\n"
     ]
    },
    {
     "data": {
      "text/html": [
       "<table class=\"simpletable\">\n",
       "<tr>\n",
       "        <td>Model:</td>              <td>Logit</td>      <td>Pseudo R-squared:</td>   <td>0.046</td> \n",
       "</tr>\n",
       "<tr>\n",
       "  <td>Dependent Variable:</td>     <td>SortType</td>           <td>AIC:</td>         <td>90.8694</td>\n",
       "</tr>\n",
       "<tr>\n",
       "         <td>Date:</td>        <td>2022-05-20 17:15</td>       <td>BIC:</td>        <td>109.7185</td>\n",
       "</tr>\n",
       "<tr>\n",
       "   <td>No. Observations:</td>         <td>60</td>         <td>Log-Likelihood:</td>   <td>-36.435</td>\n",
       "</tr>\n",
       "<tr>\n",
       "       <td>Df Model:</td>              <td>8</td>            <td>LL-Null:</td>       <td>-38.191</td>\n",
       "</tr>\n",
       "<tr>\n",
       "     <td>Df Residuals:</td>           <td>51</td>          <td>LLR p-value:</td>     <td>0.89824</td>\n",
       "</tr>\n",
       "<tr>\n",
       "      <td>Converged:</td>           <td>1.0000</td>           <td>Scale:</td>        <td>1.0000</td> \n",
       "</tr>\n",
       "<tr>\n",
       "    <td>No. Iterations:</td>        <td>8.0000</td>              <td></td>              <td></td>    \n",
       "</tr>\n",
       "</table>\n",
       "<table class=\"simpletable\">\n",
       "<tr>\n",
       "                <td></td>                 <th>Coef.</th>  <th>Std.Err.</th>    <th>z</th>     <th>P>|z|</th> <th>[0.025</th>  <th>0.975]</th>\n",
       "</tr>\n",
       "<tr>\n",
       "  <th>Intercept</th>                     <td>-0.6547</td>  <td>0.7279</td>  <td>-0.8995</td> <td>0.3684</td> <td>-2.0813</td> <td>0.7719</td>\n",
       "</tr>\n",
       "<tr>\n",
       "  <th>ArraySize</th>                     <td>0.0000</td>   <td>0.0000</td>  <td>0.8809</td>  <td>0.3784</td> <td>-0.0000</td> <td>0.0000</td>\n",
       "</tr>\n",
       "<tr>\n",
       "  <th>Test1</th>                         <td>-0.0000</td>  <td>0.0001</td>  <td>-0.7063</td> <td>0.4800</td> <td>-0.0002</td> <td>0.0001</td>\n",
       "</tr>\n",
       "<tr>\n",
       "  <th>Test7</th>                         <td>-0.0001</td>  <td>0.0002</td>  <td>-0.3506</td> <td>0.7259</td> <td>-0.0004</td> <td>0.0002</td>\n",
       "</tr>\n",
       "<tr>\n",
       "  <th>AverageTime</th>                   <td>0.0001</td>   <td>0.0002</td>  <td>0.4314</td>  <td>0.6662</td> <td>-0.0003</td> <td>0.0005</td>\n",
       "</tr>\n",
       "<tr>\n",
       "  <th>ArrayType_Equal</th>               <td>-0.3940</td>  <td>0.9102</td>  <td>-0.4329</td> <td>0.6651</td> <td>-2.1779</td> <td>1.3899</td>\n",
       "</tr>\n",
       "<tr>\n",
       "  <th>ArrayType_Increasing</th>          <td>-0.3882</td>  <td>0.9093</td>  <td>-0.4270</td> <td>0.6694</td> <td>-2.1704</td> <td>1.3939</td>\n",
       "</tr>\n",
       "<tr>\n",
       "  <th>ArrayType_IncreasingAndRandom</th> <td>-0.0980</td>  <td>0.9023</td>  <td>-0.1086</td> <td>0.9135</td> <td>-1.8665</td> <td>1.6705</td>\n",
       "</tr>\n",
       "<tr>\n",
       "  <th>ArrayType_Random</th>              <td>0.1581</td>   <td>0.9353</td>  <td>0.1691</td>  <td>0.8657</td> <td>-1.6751</td> <td>1.9914</td>\n",
       "</tr>\n",
       "</table>"
      ],
      "text/plain": [
       "<class 'statsmodels.iolib.summary2.Summary'>\n",
       "\"\"\"\n",
       "                               Results: Logit\n",
       "============================================================================\n",
       "Model:                   Logit                Pseudo R-squared:     0.046   \n",
       "Dependent Variable:      SortType             AIC:                  90.8694 \n",
       "Date:                    2022-05-20 17:15     BIC:                  109.7185\n",
       "No. Observations:        60                   Log-Likelihood:       -36.435 \n",
       "Df Model:                8                    LL-Null:              -38.191 \n",
       "Df Residuals:            51                   LLR p-value:          0.89824 \n",
       "Converged:               1.0000               Scale:                1.0000  \n",
       "No. Iterations:          8.0000                                             \n",
       "----------------------------------------------------------------------------\n",
       "                               Coef.  Std.Err.    z    P>|z|   [0.025 0.975]\n",
       "----------------------------------------------------------------------------\n",
       "Intercept                     -0.6547   0.7279 -0.8995 0.3684 -2.0813 0.7719\n",
       "ArraySize                      0.0000   0.0000  0.8809 0.3784 -0.0000 0.0000\n",
       "Test1                         -0.0000   0.0001 -0.7063 0.4800 -0.0002 0.0001\n",
       "Test7                         -0.0001   0.0002 -0.3506 0.7259 -0.0004 0.0002\n",
       "AverageTime                    0.0001   0.0002  0.4314 0.6662 -0.0003 0.0005\n",
       "ArrayType_Equal               -0.3940   0.9102 -0.4329 0.6651 -2.1779 1.3899\n",
       "ArrayType_Increasing          -0.3882   0.9093 -0.4270 0.6694 -2.1704 1.3939\n",
       "ArrayType_IncreasingAndRandom -0.0980   0.9023 -0.1086 0.9135 -1.8665 1.6705\n",
       "ArrayType_Random               0.1581   0.9353  0.1691 0.8657 -1.6751 1.9914\n",
       "============================================================================\n",
       "\n",
       "\"\"\""
      ]
     },
     "execution_count": 29,
     "metadata": {},
     "output_type": "execute_result"
    }
   ],
   "source": [
    "# formula: \"y ~ x₀ + x₁ + ... + xₙ\" (dependent ~ independents)\n",
    "logit_model = smf.logit(\"SortType ~ {}\".format(all_features), data = tests).fit()\n",
    "logit_model.summary2()"
   ]
  },
  {
   "cell_type": "markdown",
   "id": "b3ae4dc4",
   "metadata": {},
   "source": [
    "Recall that the p-value for each variable (in the column P > |z|) is the probability that we would get the coefficient in the `coef` column or one with a greater magnitude, when that coefficient is really 0 (meaning that variable does not affect the dependent variable).  Make a new logistic model with only those variables with a p-value less than 0.05, and compute the summary."
   ]
  },
  {
   "cell_type": "code",
   "execution_count": 30,
   "id": "5f9f36c5",
   "metadata": {},
   "outputs": [
    {
     "name": "stdout",
     "output_type": "stream",
     "text": [
      "Optimization terminated successfully.\n",
      "         Current function value: 0.611893\n",
      "         Iterations 7\n"
     ]
    },
    {
     "data": {
      "text/html": [
       "<table class=\"simpletable\">\n",
       "<tr>\n",
       "        <td>Model:</td>              <td>Logit</td>      <td>Pseudo R-squared:</td>  <td>0.039</td> \n",
       "</tr>\n",
       "<tr>\n",
       "  <td>Dependent Variable:</td>     <td>SortType</td>           <td>AIC:</td>        <td>83.4271</td>\n",
       "</tr>\n",
       "<tr>\n",
       "         <td>Date:</td>        <td>2022-05-20 17:15</td>       <td>BIC:</td>        <td>93.8989</td>\n",
       "</tr>\n",
       "<tr>\n",
       "   <td>No. Observations:</td>         <td>60</td>         <td>Log-Likelihood:</td>  <td>-36.714</td>\n",
       "</tr>\n",
       "<tr>\n",
       "       <td>Df Model:</td>              <td>4</td>            <td>LL-Null:</td>      <td>-38.191</td>\n",
       "</tr>\n",
       "<tr>\n",
       "     <td>Df Residuals:</td>           <td>55</td>          <td>LLR p-value:</td>    <td>0.56546</td>\n",
       "</tr>\n",
       "<tr>\n",
       "      <td>Converged:</td>           <td>1.0000</td>           <td>Scale:</td>       <td>1.0000</td> \n",
       "</tr>\n",
       "<tr>\n",
       "    <td>No. Iterations:</td>        <td>7.0000</td>              <td></td>             <td></td>    \n",
       "</tr>\n",
       "</table>\n",
       "<table class=\"simpletable\">\n",
       "<tr>\n",
       "            <td></td>            <th>Coef.</th>  <th>Std.Err.</th>    <th>z</th>     <th>P>|z|</th> <th>[0.025</th>  <th>0.975]</th>\n",
       "</tr>\n",
       "<tr>\n",
       "  <th>Intercept</th>            <td>-0.6706</td>  <td>0.5091</td>  <td>-1.3172</td> <td>0.1878</td> <td>-1.6685</td> <td>0.3273</td>\n",
       "</tr>\n",
       "<tr>\n",
       "  <th>ArraySize</th>            <td>0.0000</td>   <td>0.0000</td>  <td>0.8351</td>  <td>0.4037</td> <td>-0.0000</td> <td>0.0000</td>\n",
       "</tr>\n",
       "<tr>\n",
       "  <th>AverageTime</th>          <td>-0.0000</td>  <td>0.0000</td>  <td>-1.0734</td> <td>0.2831</td> <td>-0.0000</td> <td>0.0000</td>\n",
       "</tr>\n",
       "<tr>\n",
       "  <th>ArrayType_Equal</th>      <td>-0.3634</td>  <td>0.7502</td>  <td>-0.4844</td> <td>0.6281</td> <td>-1.8337</td> <td>1.1069</td>\n",
       "</tr>\n",
       "<tr>\n",
       "  <th>ArrayType_Increasing</th> <td>-0.3554</td>  <td>0.7479</td>  <td>-0.4751</td> <td>0.6347</td> <td>-1.8213</td> <td>1.1105</td>\n",
       "</tr>\n",
       "</table>"
      ],
      "text/plain": [
       "<class 'statsmodels.iolib.summary2.Summary'>\n",
       "\"\"\"\n",
       "                          Results: Logit\n",
       "===================================================================\n",
       "Model:                 Logit             Pseudo R-squared:  0.039  \n",
       "Dependent Variable:    SortType          AIC:               83.4271\n",
       "Date:                  2022-05-20 17:15  BIC:               93.8989\n",
       "No. Observations:      60                Log-Likelihood:    -36.714\n",
       "Df Model:              4                 LL-Null:           -38.191\n",
       "Df Residuals:          55                LLR p-value:       0.56546\n",
       "Converged:             1.0000            Scale:             1.0000 \n",
       "No. Iterations:        7.0000                                      \n",
       "-------------------------------------------------------------------\n",
       "                      Coef.  Std.Err.    z    P>|z|   [0.025 0.975]\n",
       "-------------------------------------------------------------------\n",
       "Intercept            -0.6706   0.5091 -1.3172 0.1878 -1.6685 0.3273\n",
       "ArraySize             0.0000   0.0000  0.8351 0.4037 -0.0000 0.0000\n",
       "AverageTime          -0.0000   0.0000 -1.0734 0.2831 -0.0000 0.0000\n",
       "ArrayType_Equal      -0.3634   0.7502 -0.4844 0.6281 -1.8337 1.1069\n",
       "ArrayType_Increasing -0.3554   0.7479 -0.4751 0.6347 -1.8213 1.1105\n",
       "===================================================================\n",
       "\n",
       "\"\"\""
      ]
     },
     "execution_count": 30,
     "metadata": {},
     "output_type": "execute_result"
    }
   ],
   "source": [
    "logit_model = smf.logit(\"SortType ~ ArraySize + AverageTime + ArrayType_Equal + ArrayType_Increasing\", data = tests).fit()\n",
    "logit_model.summary2()"
   ]
  },
  {
   "cell_type": "code",
   "execution_count": 31,
   "id": "d18e01fb",
   "metadata": {},
   "outputs": [
    {
     "name": "stdout",
     "output_type": "stream",
     "text": [
      "   Accuracy = 65.00%\n",
      "  Precision = 0.00%\n",
      "Sensitivity = 0.00%\n",
      "Specificity = 97.50%\n"
     ]
    },
    {
     "data": {
      "image/png": "[encoded data removed]",
      "text/plain": [
       "<Figure size 720x480 with 1 Axes>"
      ]
     },
     "metadata": {
      "needs_background": "light"
     },
     "output_type": "display_data"
    }
   ],
   "source": [
    "cmatrix_logit = logit_model.pred_table()\n",
    "show_matrix(cmatrix_logit)\n",
    "evaluation_metrics(cmatrix_logit)"
   ]
  }
 ],
 "metadata": {
  "kernelspec": {
   "display_name": "Python 3 (ipykernel)",
   "language": "python",
   "name": "python3"
  },
  "language_info": {
   "codemirror_mode": {
    "name": "ipython",
    "version": 3
   },
   "file_extension": ".py",
   "mimetype": "text/x-python",
   "name": "python",
   "nbconvert_exporter": "python",
   "pygments_lexer": "ipython3",
   "version": "3.10.4"
  }
 },
 "nbformat": 4,
 "nbformat_minor": 5
}
